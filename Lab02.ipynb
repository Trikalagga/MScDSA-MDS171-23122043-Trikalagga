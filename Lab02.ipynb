{
 "cells": [
  {
   "cell_type": "code",
   "execution_count": 73,
   "metadata": {},
   "outputs": [],
   "source": [
    "# Helping Alex in collecting names\n",
    "\n",
    "\n",
    "Name_lst = []"
   ]
  },
  {
   "cell_type": "code",
   "execution_count": 74,
   "metadata": {},
   "outputs": [],
   "source": [
    "# Declaring Function\n",
    "def Name_fun():\n",
    "    name = input(\"enter name\")\n",
    "    name = name.upper()  # Correcting Alex's mistake\n",
    "    name = name.strip()\n",
    "    if name == 'Q':\n",
    "     return  0\n",
    "    elif name in Name_lst:\n",
    "     print(\"Name exist\")\n",
    "    elif name.isalpha():\n",
    "     Name_lst.append(name)\n",
    "    else:\n",
    "     return 0\n",
    "\n"
   ]
  },
  {
   "cell_type": "code",
   "execution_count": 77,
   "metadata": {},
   "outputs": [
    {
     "name": "stdout",
     "output_type": "stream",
     "text": [
      "['TRIKA', 'BEENA', 'TAHA']\n"
     ]
    }
   ],
   "source": [
    "# calling function\n",
    "Name_fun()\n",
    "print(Name_lst)\n",
    "\n"
   ]
  },
  {
   "cell_type": "code",
   "execution_count": null,
   "metadata": {},
   "outputs": [],
   "source": [
    "    "
   ]
  }
 ],
 "metadata": {
  "kernelspec": {
   "display_name": "Python 3",
   "language": "python",
   "name": "python3"
  },
  "language_info": {
   "codemirror_mode": {
    "name": "ipython",
    "version": 3
   },
   "file_extension": ".py",
   "mimetype": "text/x-python",
   "name": "python",
   "nbconvert_exporter": "python",
   "pygments_lexer": "ipython3",
   "version": "3.11.4"
  },
  "orig_nbformat": 4
 },
 "nbformat": 4,
 "nbformat_minor": 2
}
