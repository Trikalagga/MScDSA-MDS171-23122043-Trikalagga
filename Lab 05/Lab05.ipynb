{
 "cells": [
  {
   "cell_type": "markdown",
   "metadata": {},
   "source": [
    "### Mix and Match Calculator"
   ]
  },
  {
   "cell_type": "code",
   "execution_count": 1,
   "metadata": {},
   "outputs": [],
   "source": [
    "# Creating Lists\n",
    "Item = [\"stationary\",\"sports goods\",\"confectionary\",\"groceries\",\"food items\",\"jewellery\",\"clothing item\",\"accessory\",\"beverage\",\"dessert\"]\n",
    "Quantity = [\"35\",\"15\",\"50\",\"20\",\"50\",\"22\",\"15\",\"10\",\"40\",\"36\"]\n",
    "Price = [\"100\",\"1000\",\"300\",\"250\",\"400\",\"2000\",\"1700\",\"900\",\"650\",\"200\"]"
   ]
  },
  {
   "cell_type": "code",
   "execution_count": 2,
   "metadata": {},
   "outputs": [],
   "source": [
    "file = open(\"23222043.txt\",\"a+\")\n",
    "file.write(\"Item\\tQuantity\\tPrice\\n\")\n",
    "file.close()"
   ]
  },
  {
   "cell_type": "code",
   "execution_count": 5,
   "metadata": {},
   "outputs": [],
   "source": [
    "# Creating user-defined function \n",
    "def calc(Item,Quantity,Price):\n",
    "    for x in Item:\n",
    "        X=Item[x]\n",
    "    for y in Quantity:\n",
    "        Y =Quantity[y]\n",
    "    for z in Price:\n",
    "        Z= Price[z]\n",
    "    file.write(\"X\\tY\\tZ\\n\")"
   ]
  },
  {
   "cell_type": "code",
   "execution_count": null,
   "metadata": {},
   "outputs": [],
   "source": [
    "# Import the external library\n",
    "import random # Importing the external library\n",
    "r1 = random.randint(0, 10) # Generating the random number from the range and store it in r1 variable\n"
   ]
  }
 ],
 "metadata": {
  "kernelspec": {
   "display_name": "Python 3",
   "language": "python",
   "name": "python3"
  },
  "language_info": {
   "codemirror_mode": {
    "name": "ipython",
    "version": 3
   },
   "file_extension": ".py",
   "mimetype": "text/x-python",
   "name": "python",
   "nbconvert_exporter": "python",
   "pygments_lexer": "ipython3",
   "version": "3.11.4"
  },
  "orig_nbformat": 4
 },
 "nbformat": 4,
 "nbformat_minor": 2
}
