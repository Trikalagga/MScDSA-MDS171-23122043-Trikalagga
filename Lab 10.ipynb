{
 "cells": [
  {
   "cell_type": "code",
   "execution_count": null,
   "metadata": {},
   "outputs": [],
   "source": [
    "class Python_Class:\n",
    "    def __init__(self):\n",
    "        self.StudentDetails = {'details':''}\n",
    "        self.marks={'subjectwiseMarks':''} \n",
    "\n",
    "    \n",
    "    def CreateStudentDetails(self,CLASS,name,age,address):\n",
    "        self.msea={\n",
    "            'Class':CLASS,\n",
    "            'Name':name,\n",
    "            'Age':age,\n",
    "            'Address': address,\n",
    "            }\n",
    "    def EnterStudentDetails(self):\n",
    "        self.msea['Class'] = input('enter your class')\n",
    "        self.msea['Class'] = self.CLASS\n",
    "        self.msea['Name'] = input('enter your name')\n",
    "        self.msea['Name'] = self.name\n",
    "        self.msea['Age'] = input('enter your age')\n",
    "        self.msea['Age'] = self.age\n",
    "        self.msea['Address'] = input('enter your address') \n",
    "        self.msea['Address'] = self.address \n",
    "        self.StudentDetails['details'] = self.msea\n",
    "\n",
    "    def PrintStudentDetails(self):\n",
    "        print(self.StudentDetails)    \n",
    "\n",
    "    def EnterMarks(self):\n",
    "        self.subjectMarks = {\n",
    "            'Macroeconomics':input(),\n",
    "            'Microeconomics':input(),\n",
    "            'Python':input()\n",
    "        }\n",
    "        self.marks['subjectwiseMarks'] = self.subjectMarks  \n",
    "    \n",
    "    def PrintMarks(self):\n",
    "        print('Marks of',self.name)  \n",
    "        print(self.marks) \n"
   ]
  }
 ],
 "metadata": {
  "language_info": {
   "name": "python"
  }
 },
 "nbformat": 4,
 "nbformat_minor": 2
}
