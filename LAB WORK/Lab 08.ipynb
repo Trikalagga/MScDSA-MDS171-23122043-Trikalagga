{
 "cells": [
  {
   "cell_type": "markdown",
   "metadata": {},
   "source": [
    "## Matrix Multiplication"
   ]
  },
  {
   "cell_type": "code",
   "execution_count": 1,
   "metadata": {},
   "outputs": [],
   "source": [
    "# defining a dictionary\n",
    "matdict = {}"
   ]
  },
  {
   "cell_type": "code",
   "execution_count": 5,
   "metadata": {},
   "outputs": [],
   "source": [
    "def collectMatrix():\n",
    "    matrix = []\n",
    "    rows = int(input(\"Enter the No. of Rows: \"))\n",
    "    colums = int(input(\"Enter the No. of Columns: \"))\n",
    "\n",
    "    for row in range(0,rows,1):\n",
    "        row_val = []\n",
    "        for col in range(0,colums,1):\n",
    "            col_val = int(input(\"Enter the value for position [{},{}]\".format(row,col)))\n",
    "            row_val.append(col_val)\n",
    "        matrix.append(row_val)\n",
    "        \n",
    "    return matrix"
   ]
  },
  {
   "cell_type": "code",
   "execution_count": 10,
   "metadata": {},
   "outputs": [],
   "source": [
    "def printMatrix(matrix):\n",
    "    for row in matrix:\n",
    "        for item in row:\n",
    "            print(item,end=\"\\t\")\n",
    "        print()"
   ]
  },
  {
   "cell_type": "code",
   "execution_count": 12,
   "metadata": {},
   "outputs": [],
   "source": [
    "# collecting matrices from user\n",
    "def matrixcollection():\n",
    "    print(\"Collecting Matrix 1\")\n",
    "    matdict[\"matrix 1\"] = collectMatrix()\n",
    "    printMatrix(matdict[\"matrix 1\"])\n",
    "    print(\"Collecting Matrix 2\")\n",
    "    matdict[\"matrix 2\"] = collectMatrix()\n",
    "    printMatrix(matdict[\"matrix 2\"])\n"
   ]
  },
  {
   "cell_type": "code",
   "execution_count": 13,
   "metadata": {},
   "outputs": [
    {
     "name": "stdout",
     "output_type": "stream",
     "text": [
      "Collecting Matrix 1\n",
      "1\t2\t3\t\n",
      "4\t5\t6\t\n",
      "7\t8\t9\t\n",
      "Collecting Matrix 2\n",
      "9\t8\t7\t\n",
      "6\t5\t4\t\n",
      "3\t2\t1\t\n"
     ]
    }
   ],
   "source": [
    "matrixcollection()"
   ]
  },
  {
   "cell_type": "code",
   "execution_count": 68,
   "metadata": {},
   "outputs": [
    {
     "name": "stdout",
     "output_type": "stream",
     "text": [
      "[[30, 24, 18], [84, 69, 54], [138, 114, 90]]\n"
     ]
    }
   ],
   "source": [
    "# matrix multiplication\n",
    "def matrixMultiplication():\n",
    "\n",
    "    mat_1_row = len(matdict['matrix 1'])\n",
    "    mat_1_col = len(matdict['matrix 1'][0])\n",
    "\n",
    "    mat_2_row = len(matdict['matrix 2'])\n",
    "    mat_2_col = len(matdict['matrix 2'][0])\n",
    "\n",
    "    result = []\n",
    "    \n",
    "    for i in range(0,mat_1_row):\n",
    "        temp_res_row = []\n",
    "        for j in range(0,mat_2_col):\n",
    "            tmp = 0\n",
    "            for k in range(0,mat_2_col):\n",
    "                tmp+=matdict['matrix 1'][i][k] * matdict['matrix 2'][k][j]\n",
    "            temp_res_row.append(tmp)\n",
    "\n",
    "        result.append(temp_res_row)\n",
    "\n",
    "    print(result)\n",
    "\n",
    "\n",
    "matrixMultiplication()"
   ]
  },
  {
   "cell_type": "code",
   "execution_count": 6,
   "metadata": {},
   "outputs": [],
   "source": [
    "# displaying the result in a file\n",
    "def displayresult():\n",
    "    file1 = open(\"Matrixproduct.txt\",\"a+\")\n",
    "    file1 = file1.write(\"Enter matrix 1:\",a,\"\\nEnter matrix 2:\",b,\"\\nProduct matrix:\",result)\n",
    "    print(file1.read())\n",
    "    file1.close()\n",
    "\n"
   ]
  },
  {
   "cell_type": "code",
   "execution_count": 7,
   "metadata": {},
   "outputs": [
    {
     "ename": "NameError",
     "evalue": "name 'a' is not defined",
     "output_type": "error",
     "traceback": [
      "\u001b[1;31m---------------------------------------------------------------------------\u001b[0m",
      "\u001b[1;31mNameError\u001b[0m                                 Traceback (most recent call last)",
      "\u001b[1;32md:\\git\\MScDSA-MDS171-23122043-Trikalagga\\Lab 08.ipynb Cell 6\u001b[0m line \u001b[0;36m2\n\u001b[0;32m      <a href='vscode-notebook-cell:/d%3A/git/MScDSA-MDS171-23122043-Trikalagga/Lab%2008.ipynb#W5sZmlsZQ%3D%3D?line=0'>1</a>\u001b[0m matrixcollection()\n\u001b[1;32m----> <a href='vscode-notebook-cell:/d%3A/git/MScDSA-MDS171-23122043-Trikalagga/Lab%2008.ipynb#W5sZmlsZQ%3D%3D?line=1'>2</a>\u001b[0m matrixmulti()\n\u001b[0;32m      <a href='vscode-notebook-cell:/d%3A/git/MScDSA-MDS171-23122043-Trikalagga/Lab%2008.ipynb#W5sZmlsZQ%3D%3D?line=2'>3</a>\u001b[0m displayresult()\n",
      "\u001b[1;32md:\\git\\MScDSA-MDS171-23122043-Trikalagga\\Lab 08.ipynb Cell 6\u001b[0m line \u001b[0;36m3\n\u001b[0;32m      <a href='vscode-notebook-cell:/d%3A/git/MScDSA-MDS171-23122043-Trikalagga/Lab%2008.ipynb#W5sZmlsZQ%3D%3D?line=1'>2</a>\u001b[0m \u001b[39mdef\u001b[39;00m \u001b[39mmatrixmulti\u001b[39m():\n\u001b[1;32m----> <a href='vscode-notebook-cell:/d%3A/git/MScDSA-MDS171-23122043-Trikalagga/Lab%2008.ipynb#W5sZmlsZQ%3D%3D?line=2'>3</a>\u001b[0m     \u001b[39mif\u001b[39;00m \u001b[39mlen\u001b[39m(a[\u001b[39m0\u001b[39m]) \u001b[39m==\u001b[39m \u001b[39mlen\u001b[39m(b):\n\u001b[0;32m      <a href='vscode-notebook-cell:/d%3A/git/MScDSA-MDS171-23122043-Trikalagga/Lab%2008.ipynb#W5sZmlsZQ%3D%3D?line=3'>4</a>\u001b[0m         \u001b[39mfor\u001b[39;00m i \u001b[39min\u001b[39;00m \u001b[39mrange\u001b[39m(\u001b[39mlen\u001b[39m(a)):\n\u001b[0;32m      <a href='vscode-notebook-cell:/d%3A/git/MScDSA-MDS171-23122043-Trikalagga/Lab%2008.ipynb#W5sZmlsZQ%3D%3D?line=4'>5</a>\u001b[0m             \u001b[39mfor\u001b[39;00m j \u001b[39min\u001b[39;00m \u001b[39mrange\u001b[39m(\u001b[39mlen\u001b[39m(b[\u001b[39m0\u001b[39m])):\n",
      "\u001b[1;31mNameError\u001b[0m: name 'a' is not defined"
     ]
    }
   ],
   "source": [
    "matrixcollection()\n",
    "matrixMultiplication()\n",
    "displayresult()"
   ]
  },
  {
   "cell_type": "code",
   "execution_count": null,
   "metadata": {},
   "outputs": [],
   "source": []
  }
 ],
 "metadata": {
  "kernelspec": {
   "display_name": "Python 3",
   "language": "python",
   "name": "python3"
  },
  "language_info": {
   "codemirror_mode": {
    "name": "ipython",
    "version": 3
   },
   "file_extension": ".py",
   "mimetype": "text/x-python",
   "name": "python",
   "nbconvert_exporter": "python",
   "pygments_lexer": "ipython3",
   "version": "3.11.4"
  },
  "orig_nbformat": 4
 },
 "nbformat": 4,
 "nbformat_minor": 2
}
