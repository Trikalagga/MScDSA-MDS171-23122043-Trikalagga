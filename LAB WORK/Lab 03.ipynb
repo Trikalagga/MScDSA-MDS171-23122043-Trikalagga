{
 "cells": [
  {
   "cell_type": "code",
   "execution_count": 1,
   "metadata": {},
   "outputs": [],
   "source": [
    "list1=[761, 123, 585, 275, 194, 840, 999, 622, 763, 40, 825, 687, 402, 338, 611, 987, 739, 95, 819, 568, 320, 126, 688, 948, 514, 223, 751, 379, 857, 767, 492, 162, 437, 934, 430, 343, 725, 511, 580, 678, 708, 823, 346, 179, 786, 663, 195, 890, 267, 502, 214, 300, 786, 961, 235, 559, 992, 919, 948, 318, 57, 787, 653, 317, 305, 172, 966, 182, 970, 17, 89, 624, 629, 595, 485, 752, 984, 978, 460, 124, 321, 256, 614, 852, 811, 561, 127, 207, 406, 615, 888, 391, 691, 470, 911, 401, 137, 600, 478, 682]"
   ]
  },
  {
   "cell_type": "code",
   "execution_count": 9,
   "metadata": {},
   "outputs": [],
   "source": [
    "\n",
    "\n",
    "def arth_mean(list1):    \n",
    "    vari1=0\n",
    "    vari2=0\n",
    "    for i in list1:  # taking the mean\n",
    "        vari1+=1\n",
    "        vari2+=i\n",
    "        mean=vari2/vari1\n",
    "    print(\"The Required Mean for the provided list: \",mean)\n",
    "\n",
    "\n",
    "def arth_maxi(list1):    #taking the maximum element\n",
    "    vari3=list1[0] \n",
    "    for j in list1:\n",
    "        if j>vari3:\n",
    "            vari3=j\n",
    "    print(\"The Required Maximum for the provided list: \",vari3)\n",
    "\n",
    "def arth_mini(list1):    #taking the minimum element\n",
    "    vari4=list1[0]\n",
    "    for j in list1:\n",
    "        if j<vari4:\n",
    "            vari4=j\n",
    "    print(\"The Required Minimum for the provided list: \",vari4)\n",
    "\n",
    "def arth_range(list1):            #taking the range\n",
    "    vari4=list1[0]\n",
    "    vari3=list1[0]\n",
    "    for j in list1:\n",
    "        if j<vari4:\n",
    "            vari4=j\n",
    "        for l in list1:\n",
    "            if l>vari3:\n",
    "                vari3=l\n",
    "    print(\"The Range of the given list is :\", vari3-vari4)"
   ]
  },
  {
   "cell_type": "code",
   "execution_count": 10,
   "metadata": {},
   "outputs": [
    {
     "name": "stdout",
     "output_type": "stream",
     "text": [
      "The Required Mean for the provided list:  542.94\n"
     ]
    }
   ],
   "source": [
    "arth_mean(list1)"
   ]
  },
  {
   "cell_type": "code",
   "execution_count": 11,
   "metadata": {},
   "outputs": [
    {
     "name": "stdout",
     "output_type": "stream",
     "text": [
      "The Required Maximum for the provided list:  999\n"
     ]
    }
   ],
   "source": [
    "arth_maxi(list1)"
   ]
  },
  {
   "cell_type": "code",
   "execution_count": 12,
   "metadata": {},
   "outputs": [
    {
     "name": "stdout",
     "output_type": "stream",
     "text": [
      "The Required Minimum for the provided list:  17\n"
     ]
    }
   ],
   "source": [
    "arth_mini(list1)"
   ]
  },
  {
   "cell_type": "code",
   "execution_count": 13,
   "metadata": {},
   "outputs": [
    {
     "name": "stdout",
     "output_type": "stream",
     "text": [
      "The Range of the given list is : 982\n"
     ]
    }
   ],
   "source": [
    "arth_range(list1)"
   ]
  },
  {
   "cell_type": "code",
   "execution_count": 30,
   "metadata": {},
   "outputs": [],
   "source": [
    "import statistics\n",
    "def check():\n",
    "    lst1=[761, 123, 585, 275, 194, 840, 999, 622, 763, 40, 825, 687, 402, 338, 611, 987, 739, 95, 819, 568, 320, 126, 688, 948, 514, 223, 751, 379, 857, 767, 492, 162, 437, 934, 430, 343, 725, 511, 580, 678, 708, 823, 346, 179, 786, 663, 195, 890, 267, 502, 214, 300, 786, 961, 235, 559, 992, 919, 948, 318, 57, 787, 653, 317, 305, 172, 966, 182, 970, 17, 89, 624, 629, 595, 485, 752, 984, 978, 460, 124, 321, 256, 614, 852, 811, 561, 127, 207, 406, 615, 888, 391, 691, 470, 911, 401, 137, 600, 478, 682]\n",
    "    Average=statistics.mean(lst1)\n",
    "    Min_no =min(lst1)\n",
    "    Max_no =max(lst1)\n",
    "    Range_1=Max_no-Min_no\n",
    "    # Range_1 = range(lst1)\n",
    "\n",
    "    if Average==arth_mean(list1):\n",
    "        print(\"Mean is correct\")\n",
    "    else:\n",
    "        print(\"Incorrect mean\")\n",
    "    if Min_no==arth_mini(list1):\n",
    "        print(\"Minimum no. is correct\")\n",
    "    else:\n",
    "        print(\"Incorrect minimum no.\")\n",
    "    if Max_no ==arth_maxi(list1):\n",
    "        print(\"Maximum no. is correct\")\n",
    "    else:\n",
    "        print(\"Incorrect maximum no.\")\n",
    "    if Range_1 == arth_range:\n",
    "        print(\"Range is correct\")\n",
    "    else:\n",
    "        print(\"Incorrect range\")"
   ]
  },
  {
   "cell_type": "code",
   "execution_count": 31,
   "metadata": {},
   "outputs": [
    {
     "name": "stdout",
     "output_type": "stream",
     "text": [
      "The Required Mean for the provided list:  542.94\n",
      "Incorrect mean\n",
      "The Required Minimum for the provided list:  17\n",
      "Incorrect minimum no.\n",
      "The Required Maximum for the provided list:  999\n",
      "Incorrect maximum no.\n",
      "Incorrect range\n"
     ]
    }
   ],
   "source": [
    "check()"
   ]
  },
  {
   "cell_type": "code",
   "execution_count": null,
   "metadata": {},
   "outputs": [],
   "source": []
  }
 ],
 "metadata": {
  "kernelspec": {
   "display_name": "Python 3",
   "language": "python",
   "name": "python3"
  },
  "language_info": {
   "codemirror_mode": {
    "name": "ipython",
    "version": 3
   },
   "file_extension": ".py",
   "mimetype": "text/x-python",
   "name": "python",
   "nbconvert_exporter": "python",
   "pygments_lexer": "ipython3",
   "version": "3.11.4"
  },
  "orig_nbformat": 4
 },
 "nbformat": 4,
 "nbformat_minor": 2
}
