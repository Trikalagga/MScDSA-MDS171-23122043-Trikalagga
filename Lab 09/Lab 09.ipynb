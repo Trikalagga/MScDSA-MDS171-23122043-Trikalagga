{
 "cells": [
  {
   "cell_type": "code",
   "execution_count": 23,
   "metadata": {},
   "outputs": [
    {
     "name": "stdout",
     "output_type": "stream",
     "text": [
      "INCOME\n",
      "EXPENSES\n",
      "Total income\n",
      "0\n",
      "Total Expense\n",
      "0\n"
     ]
    },
    {
     "ename": "NameError",
     "evalue": "name 'Type' is not defined",
     "output_type": "error",
     "traceback": [
      "\u001b[1;31m---------------------------------------------------------------------------\u001b[0m",
      "\u001b[1;31mNameError\u001b[0m                                 Traceback (most recent call last)",
      "\u001b[1;32md:\\git\\MScDSA-MDS171-23122043-Trikalagga\\Lab 09\\Lab 09.ipynb Cell 1\u001b[0m line \u001b[0;36m8\n\u001b[0;32m     <a href='vscode-notebook-cell:/d%3A/git/MScDSA-MDS171-23122043-Trikalagga/Lab%2009/Lab%2009.ipynb#W0sZmlsZQ%3D%3D?line=71'>72</a>\u001b[0m mybudget\u001b[39m=\u001b[39m{}\n\u001b[0;32m     <a href='vscode-notebook-cell:/d%3A/git/MScDSA-MDS171-23122043-Trikalagga/Lab%2009/Lab%2009.ipynb#W0sZmlsZQ%3D%3D?line=72'>73</a>\u001b[0m \u001b[39m# Type={}\u001b[39;00m\n\u001b[0;32m     <a href='vscode-notebook-cell:/d%3A/git/MScDSA-MDS171-23122043-Trikalagga/Lab%2009/Lab%2009.ipynb#W0sZmlsZQ%3D%3D?line=73'>74</a>\u001b[0m \u001b[39m# Category={}\u001b[39;00m\n\u001b[0;32m     <a href='vscode-notebook-cell:/d%3A/git/MScDSA-MDS171-23122043-Trikalagga/Lab%2009/Lab%2009.ipynb#W0sZmlsZQ%3D%3D?line=74'>75</a>\u001b[0m \u001b[39m# Cost={}\u001b[39;00m\n\u001b[0;32m     <a href='vscode-notebook-cell:/d%3A/git/MScDSA-MDS171-23122043-Trikalagga/Lab%2009/Lab%2009.ipynb#W0sZmlsZQ%3D%3D?line=75'>76</a>\u001b[0m \u001b[39m# Description ={}\u001b[39;00m\n\u001b[0;32m     <a href='vscode-notebook-cell:/d%3A/git/MScDSA-MDS171-23122043-Trikalagga/Lab%2009/Lab%2009.ipynb#W0sZmlsZQ%3D%3D?line=76'>77</a>\u001b[0m \u001b[39m# Date ={}\u001b[39;00m\n\u001b[1;32m---> <a href='vscode-notebook-cell:/d%3A/git/MScDSA-MDS171-23122043-Trikalagga/Lab%2009/Lab%2009.ipynb#W0sZmlsZQ%3D%3D?line=79'>80</a>\u001b[0m mytransactions\u001b[39m.\u001b[39mstoretransaction(mybudget[Type],mybudget[Category],mybudget[Cost],mybudget[description],mybudget[date])        \n",
      "\u001b[1;31mNameError\u001b[0m: name 'Type' is not defined"
     ]
    }
   ],
   "source": [
    "\n",
    "\n",
    "# Lab 09\n",
    "# TASK Lab 09\n",
    "# Using the expenseTracker Class continue with the task:\n",
    "# CREATE A CSV FIle for Expense/Income\n",
    "# load the CSV File and populate the dictionary of the expenseTracker class\n",
    "# find the total expense and income\n",
    "\n",
    "# Additional Task\n",
    "# Using the concept of menu driven programming,\n",
    "# Show the menu options to add new transaction [expense/income]\n",
    "# export the updated dictionary to the file.\n",
    "\n",
    "class expensetracker:\n",
    "    \n",
    "    def __init__(self):\n",
    "        self.transactions ={\n",
    "            \"expenses\" : [],\n",
    "            \"income\" : [],\n",
    "            }\n",
    "        \n",
    "    def storetransaction(self,type,category,cost,description,date):\n",
    "        transaction ={\n",
    "              \"Category\": category,\n",
    "              \"Cost\" : cost,\n",
    "              \"Description\": description,\n",
    "              \"Date\": date,\n",
    "              }\n",
    "\n",
    "        if  type == \"expenses\": \n",
    "            self.transactions['expenses'].append(transaction)\n",
    "\n",
    "        else:\n",
    "            self.transactions['income'].append(transaction)\n",
    "    # expense\n",
    "    # type/category\n",
    "    # cost/amount\n",
    "    # description on the transaction\n",
    "    # date [DD/MM/YYYY]\n",
    "            return True\n",
    "        \n",
    "    def view_transactions(self):\n",
    "        print(\"INCOME\")\n",
    "        for expense in self.transactions['expenses']:\n",
    "            print(expense)\n",
    "\n",
    "        print(\"EXPENSES\")\n",
    "        for expense in self.transactions['expenses']:\n",
    "            print(expense)  \n",
    "\n",
    "    # total income\n",
    "    def total_incomeexpense(self):\n",
    "        print(\"Total income\")\n",
    "        total_income = 0\n",
    "        for income in self.transactions['income']:\n",
    "            total_income+=income[\"Cost\"]\n",
    "        print(total_income)\n",
    "\n",
    "        print(\"Total Expense\")\n",
    "        total_expense = 0\n",
    "        for expense in self.transactions['expenses']:\n",
    "              total_expense += expense[\"Cost\"]\n",
    "        print(total_expense)\n",
    "\n",
    "\n",
    "mytransactions.view_transactions()\n",
    "mytransactions.total_incomeexpense()\n",
    "\n",
    "with open(\"D:\\git\\MScDSA-MDS171-23122043-Trikalagga\\Lab 09\\expensetracker(main).csv\",\"a+\") as file:\n",
    "        for line in file.readlines():\n",
    "            print(line) \n",
    "        mytransactions = expensetracker()\n",
    "        mybudget={}\n",
    "        \n",
    "        \n",
    "\n",
    "        mytransactions.storetransaction(mybudget[Type],mybudget[Category],mybudget[Cost],mybudget[description],mybudget[date])        \n",
    "                                                "
   ]
  },
  {
   "cell_type": "code",
   "execution_count": null,
   "metadata": {},
   "outputs": [],
   "source": []
  },
  {
   "cell_type": "code",
   "execution_count": null,
   "metadata": {},
   "outputs": [],
   "source": []
  }
 ],
 "metadata": {
  "kernelspec": {
   "display_name": "Python 3",
   "language": "python",
   "name": "python3"
  },
  "language_info": {
   "codemirror_mode": {
    "name": "ipython",
    "version": 3
   },
   "file_extension": ".py",
   "mimetype": "text/x-python",
   "name": "python",
   "nbconvert_exporter": "python",
   "pygments_lexer": "ipython3",
   "version": "3.11.4"
  },
  "orig_nbformat": 4
 },
 "nbformat": 4,
 "nbformat_minor": 2
}
