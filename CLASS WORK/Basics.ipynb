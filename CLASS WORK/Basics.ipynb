{
 "cells": [
  {
   "cell_type": "markdown",
   "metadata": {},
   "source": [
    "# IF Statement"
   ]
  },
  {
   "cell_type": "code",
   "execution_count": null,
   "metadata": {},
   "outputs": [],
   "source": [
    "# if expression\n",
    "#     statemetn under if "
   ]
  },
  {
   "cell_type": "code",
   "execution_count": 3,
   "metadata": {},
   "outputs": [
    {
     "name": "stdout",
     "output_type": "stream",
     "text": [
      "start of the program\n",
      "Program End\n"
     ]
    }
   ],
   "source": [
    "print(\"start of the program\")\n",
    "a = input(\"Enter a number\")\n",
    "if a ==5:\n",
    "    print(\"The value is five\")\n",
    "print(\"Program End\")"
   ]
  },
  {
   "cell_type": "code",
   "execution_count": 5,
   "metadata": {},
   "outputs": [
    {
     "name": "stdout",
     "output_type": "stream",
     "text": [
      "start of the program\n",
      "Entered number is 7\n",
      "Program End\n"
     ]
    }
   ],
   "source": [
    "print(\"start of the program\")\n",
    "a = int(input(\"Enter a number\"))\n",
    "if a ==5:\n",
    "    print(\"The value is five\")\n",
    "else:\n",
    "    print(\"Entered number is\",a)\n",
    "print(\"Program End\")"
   ]
  },
  {
   "cell_type": "markdown",
   "metadata": {},
   "source": [
    "Write a program to check if the entered number is ODD or EVEN "
   ]
  },
  {
   "cell_type": "code",
   "execution_count": 6,
   "metadata": {},
   "outputs": [
    {
     "name": "stdout",
     "output_type": "stream",
     "text": [
      "47.0 is odd\n"
     ]
    }
   ],
   "source": [
    "a=float(input(\"Enter a number\"))\n",
    "if a%2==0:\n",
    "    print(\"{} is even\".format(a))\n",
    "elif a%2==1:\n",
    "    print(\"{} is odd\".format(a))\n",
    "else:\n",
    "    print(\"{} is a decimal number\".format(a))\n",
    "\n"
   ]
  },
  {
   "cell_type": "markdown",
   "metadata": {},
   "source": []
  },
  {
   "cell_type": "code",
   "execution_count": 9,
   "metadata": {},
   "outputs": [
    {
     "name": "stdout",
     "output_type": "stream",
     "text": [
      "['q', 3, 4]\n"
     ]
    }
   ],
   "source": [
    "b=['q',3,4]\n",
    "print(b)"
   ]
  },
  {
   "cell_type": "code",
   "execution_count": null,
   "metadata": {},
   "outputs": [],
   "source": []
  },
  {
   "cell_type": "markdown",
   "metadata": {},
   "source": [
    "# Read 3 numbers from user and print the largest among them\n",
    "a=float(input())\n",
    "b=float(input())\n",
    "c=float(input())\n",
    "if a>b and a>c:\n",
    "    print(\"The largest number is\",a)\n",
    "elif b>a and b>c:\n",
    "    print(\"The largest number is\",b)\n",
    "else:\n",
    "    print(\"The largest number is\",c)"
   ]
  },
  {
   "cell_type": "code",
   "execution_count": 6,
   "metadata": {},
   "outputs": [
    {
     "name": "stdout",
     "output_type": "stream",
     "text": [
      "The largest number is 9.0\n"
     ]
    }
   ],
   "source": [
    "# Read 3 numbers from user and print the largest among them\n",
    "a=float(input())\n",
    "b=float(input())\n",
    "c=float(input())\n",
    "if a>b and a>c:\n",
    "    print(\"The largest number is\",a)\n",
    "elif b>a and b>c:\n",
    "    print(\"The largest number is\",b)\n",
    "else:\n",
    "    print(\"The largest number is\",c)"
   ]
  },
  {
   "cell_type": "code",
   "execution_count": 36,
   "metadata": {},
   "outputs": [
    {
     "name": "stdout",
     "output_type": "stream",
     "text": [
      "The largest number is 98.0\n",
      "The numbers in ascending is 45.0 67.0 98.0\n"
     ]
    }
   ],
   "source": [
    "a=float(input())\n",
    "b=float(input())\n",
    "c=float(input())\n",
    "\n",
    "if a>b and a>c:\n",
    "    print(\"The largest number is\",a)\n",
    "    if b>c:\n",
    "        print(\"The numbers in ascending is\", c,b,a)\n",
    "    else:\n",
    "        print(\"The numbers in ascending is\",b,c,a)\n",
    "if b>a and b>c:\n",
    "    print(\"The largest number is\",b)\n",
    "    if a>c:\n",
    "        print(\"The numbers in ascending order is\",c,a,b)\n",
    "    else:\n",
    "        print(\"The numbers in ascending order is\",a,c,b)\n",
    "if c>a and c>b:\n",
    "    print(\"The largest number is\",c)\n",
    "    if a>b:\n",
    "        print(\"The numbers in ascending is\",b,a,c)\n",
    "    else:\n",
    "        print(\"The numbers in ascending order is\",a,b,c)"
   ]
  },
  {
   "cell_type": "markdown",
   "metadata": {},
   "source": [
    "## Define a function that takes a list of numbers as input and return the sum of numbers, without any predefined functions."
   ]
  },
  {
   "cell_type": "markdown",
   "metadata": {},
   "source": []
  },
  {
   "cell_type": "code",
   "execution_count": 77,
   "metadata": {},
   "outputs": [
    {
     "data": {
      "text/plain": [
       "55"
      ]
     },
     "execution_count": 77,
     "metadata": {},
     "output_type": "execute_result"
    }
   ],
   "source": [
    "def sum_lst():\n",
    "   a=[]\n",
    "   n=int(input(\"Enter the no. of elements\"))\n",
    "   for i in range(n):\n",
    "      b=a.append(int(input()))\n",
    "   sum =0\n",
    "   for j in a:\n",
    "      sum = sum + j \n",
    "   return(sum)\n",
    "\n",
    "sum_lst()\n",
    "\n",
    "\n"
   ]
  },
  {
   "cell_type": "code",
   "execution_count": 78,
   "metadata": {},
   "outputs": [
    {
     "data": {
      "text/plain": [
       "45.0"
      ]
     },
     "execution_count": 78,
     "metadata": {},
     "output_type": "execute_result"
    }
   ],
   "source": [
    "b"
   ]
  },
  {
   "cell_type": "code",
   "execution_count": 67,
   "metadata": {},
   "outputs": [
    {
     "name": "stdout",
     "output_type": "stream",
     "text": [
      "1\n",
      "4\n",
      "5\n",
      "7\n",
      "17\n"
     ]
    }
   ],
   "source": [
    "a=[1,4,5,7]\n",
    "for i in a:\n",
    "    print(i)\n",
    "sum=0\n",
    "for i in a:\n",
    "    sum=sum +i\n",
    "print(sum)"
   ]
  },
  {
   "cell_type": "code",
   "execution_count": 52,
   "metadata": {},
   "outputs": [
    {
     "name": "stdout",
     "output_type": "stream",
     "text": [
      "I want 3 gowns within my budget of Rs.15000.\n"
     ]
    }
   ],
   "source": [
    "quantity=3\n",
    "dress = 'gowns'\n",
    "budget = 15000\n",
    "myorder = \"I want {} {} within my budget of Rs.{}.\"\n",
    "print(myorder.format(quantity,dress,budget))\n"
   ]
  },
  {
   "cell_type": "code",
   "execution_count": 2,
   "metadata": {},
   "outputs": [
    {
     "name": "stdout",
     "output_type": "stream",
     "text": [
      "23\n",
      "12\n",
      "4\n",
      "34\n",
      "29\n"
     ]
    }
   ],
   "source": [
    "A=[23,12,4,34,29]\n",
    "for item in A:\n",
    "    print(item)\n",
    "\n"
   ]
  },
  {
   "cell_type": "code",
   "execution_count": 3,
   "metadata": {},
   "outputs": [],
   "source": [
    "# declaring function\n",
    "def sum_lst(numbers):\n",
    "    sum=0\n",
    "    for item in numbers:\n",
    "        sum=sum+item\n",
    "    return sum"
   ]
  },
  {
   "cell_type": "code",
   "execution_count": 4,
   "metadata": {},
   "outputs": [
    {
     "data": {
      "text/plain": [
       "102"
      ]
     },
     "execution_count": 4,
     "metadata": {},
     "output_type": "execute_result"
    }
   ],
   "source": [
    "sum_lst(A)"
   ]
  },
  {
   "cell_type": "markdown",
   "metadata": {},
   "source": [
    "## Collect user input of numbers in the form of comma separated values."
   ]
  },
  {
   "cell_type": "code",
   "execution_count": 83,
   "metadata": {},
   "outputs": [
    {
     "name": "stdout",
     "output_type": "stream",
     "text": [
      "23 45 56,67,12,234\n",
      "['23 45 56', '67', '12', '234']\n"
     ]
    }
   ],
   "source": [
    "\n",
    "b= input(\"Enter the numbers\")\n",
    "print(b)\n",
    "B=b.split(\",\")\n",
    "print(B)"
   ]
  },
  {
   "cell_type": "code",
   "execution_count": null,
   "metadata": {},
   "outputs": [],
   "source": []
  },
  {
   "cell_type": "markdown",
   "metadata": {},
   "source": []
  },
  {
   "cell_type": "markdown",
   "metadata": {},
   "source": [
    "# File Handling"
   ]
  },
  {
   "cell_type": "code",
   "execution_count": 17,
   "metadata": {},
   "outputs": [],
   "source": [
    "file= open(\"sample.txt\",\"a+\") "
   ]
  },
  {
   "cell_type": "markdown",
   "metadata": {},
   "source": [
    "file.write(\"\\nThis is my first\\n line in the file\")"
   ]
  },
  {
   "cell_type": "code",
   "execution_count": 19,
   "metadata": {},
   "outputs": [],
   "source": [
    "file.close()"
   ]
  },
  {
   "cell_type": "code",
   "execution_count": 21,
   "metadata": {},
   "outputs": [
    {
     "data": {
      "text/plain": [
       "'This is my first\\n'"
      ]
     },
     "execution_count": 21,
     "metadata": {},
     "output_type": "execute_result"
    }
   ],
   "source": [
    "file_read = open(\"sample.txt\",\"r+\")\n",
    "file_read.readline()"
   ]
  },
  {
   "cell_type": "code",
   "execution_count": 121,
   "metadata": {},
   "outputs": [
    {
     "name": "stdout",
     "output_type": "stream",
     "text": [
      "List of Morning Ragas\n",
      "\n"
     ]
    }
   ],
   "source": [
    "file = open(\"music1.txt\",\"a+\")\n",
    "file.write(\"List of Morning Ragas\\n1) Gunkali\\n2) Ramkali\\n3) Bairagi Bhairav\")\n",
    "T= file.readlines()\n",
    "print(T[0])\n",
    "\n",
    "\n"
   ]
  },
  {
   "cell_type": "code",
   "execution_count": 89,
   "metadata": {},
   "outputs": [
    {
     "ename": "NameError",
     "evalue": "name 'file_read' is not defined",
     "output_type": "error",
     "traceback": [
      "\u001b[1;31m---------------------------------------------------------------------------\u001b[0m",
      "\u001b[1;31mNameError\u001b[0m                                 Traceback (most recent call last)",
      "\u001b[1;32md:\\PythonClassNotes\\Basics.ipynb Cell 32\u001b[0m line \u001b[0;36m1\n\u001b[1;32m----> <a href='vscode-notebook-cell:/d%3A/PythonClassNotes/Basics.ipynb#X41sZmlsZQ%3D%3D?line=0'>1</a>\u001b[0m file_read\u001b[39m.\u001b[39mreadlines()\n",
      "\u001b[1;31mNameError\u001b[0m: name 'file_read' is not defined"
     ]
    }
   ],
   "source": [
    "file_read.readlines()"
   ]
  },
  {
   "cell_type": "markdown",
   "metadata": {},
   "source": [
    "## Write a function, that accepts your details and save into a file"
   ]
  },
  {
   "cell_type": "markdown",
   "metadata": {},
   "source": []
  },
  {
   "cell_type": "code",
   "execution_count": null,
   "metadata": {},
   "outputs": [],
   "source": [
    "def writeMyDetails(name,phone,email):\n",
    "    fileMyDetails = open(name+\"txt\",\"w+\")\n",
    "    fileMyDetails.write(\"Name\\t:\\t\"+name)\n",
    "    fileMyDetails.write(\"\\nPhone\\t:\\t\"+phone)\n",
    "    fileMyDetails.write(\"\\nemail\\t:\\t\"+email)\n",
    "    fileMyDetails.close()\n",
    "    return True\n",
    "\n",
    "name = input(\"Enter your name: \")\n",
    "phone = input(\"Enter your phone no. \")\n",
    "email = input(\"Enter your email: \")\n",
    "ret = writeMyDetails(name,phone,email)\n",
    "if ret:\n",
    "    print(\"Your details are saved..!\")\n",
    "    print(\"*\"*30)\n",
    "    #for line in open(name+\".txt\",\"r+\").readlines():\n",
    "     #   print(line)\n",
    "     file=open(name+\".txt\")\n",
    "    print(\"*\"*30)\n",
    "else:\n",
    "    print(\"Some error occured\")\n"
   ]
  },
  {
   "cell_type": "code",
   "execution_count": 127,
   "metadata": {},
   "outputs": [
    {
     "name": "stdout",
     "output_type": "stream",
     "text": [
      "Your details are saved..!\n",
      "******************************\n"
     ]
    }
   ],
   "source": [
    "def writeMyDetails(name,phone,email):\n",
    "    fileMyDetails = open(name+\".txt\",\"a+\")\n",
    "    fileMyDetails.write(\"Name\\t:\\t\"+name)\n",
    "    fileMyDetails.write(\"\\nPhone\\t:\\t\"+phone)\n",
    "    fileMyDetails.write(\"\\nemail\\t:\\t\"+email)\n",
    "    fileMyDetails.close()\n",
    "    return True\n",
    "\n",
    "name = input(\"Enter your name: \")\n",
    "phone = input(\"Enter your phone no. \")\n",
    "email = input(\"Enter your email: \")\n",
    "ret = writeMyDetails(name,phone,email)\n",
    "if ret:\n",
    "    print(\"Your details are saved..!\")\n",
    "    print(\"*\"*30)\n",
    "    for line in open(name+\".txt\",\"a+\").readlines():\n",
    "       print(line)\n",
    "     \n",
    "else:\n",
    "    print(\"Some error occured\")"
   ]
  },
  {
   "cell_type": "code",
   "execution_count": 2,
   "metadata": {},
   "outputs": [],
   "source": [
    "#with open(filename,\"w\") as file:\n",
    "#    file.write(\"abcde\") # no filename.close( is required)"
   ]
  },
  {
   "cell_type": "markdown",
   "metadata": {},
   "source": [
    "# while loop"
   ]
  },
  {
   "cell_type": "code",
   "execution_count": 141,
   "metadata": {},
   "outputs": [
    {
     "name": "stdout",
     "output_type": "stream",
     "text": [
      "1\n",
      "2\n",
      "3\n",
      "4\n",
      "five\n"
     ]
    }
   ],
   "source": [
    "#break|pass|continue\n",
    "\n",
    "for item in range(1,20,1):\n",
    "    if item== 5:\n",
    "        print('five')\n",
    "        break\n",
    "    print(item)"
   ]
  },
  {
   "cell_type": "code",
   "execution_count": 25,
   "metadata": {},
   "outputs": [
    {
     "name": "stdout",
     "output_type": "stream",
     "text": [
      "1\n",
      "2\n",
      "3\n",
      "4\n",
      "5\n"
     ]
    }
   ],
   "source": [
    "for item in range(1,20,1):\n",
    "    if item == 6:\n",
    "        break\n",
    "    print(item)"
   ]
  },
  {
   "cell_type": "code",
   "execution_count": 131,
   "metadata": {},
   "outputs": [
    {
     "name": "stdout",
     "output_type": "stream",
     "text": [
      "1\n",
      "2\n",
      "3\n",
      "4\n",
      "6\n",
      "7\n",
      "8\n",
      "9\n",
      "10\n",
      "11\n",
      "12\n",
      "13\n",
      "14\n",
      "15\n",
      "16\n",
      "17\n",
      "18\n",
      "19\n"
     ]
    }
   ],
   "source": [
    "for item in range(1,20,1):\n",
    "    if item == 5:\n",
    "        continue\n",
    "    print(item) "
   ]
  },
  {
   "cell_type": "code",
   "execution_count": 140,
   "metadata": {},
   "outputs": [
    {
     "name": "stdout",
     "output_type": "stream",
     "text": [
      "1\n",
      "2\n",
      "3\n",
      "4\n",
      "five\n",
      "6\n",
      "7\n",
      "8\n",
      "9\n",
      "10\n",
      "11\n",
      "12\n",
      "13\n",
      "14\n",
      "15\n",
      "16\n",
      "17\n",
      "18\n",
      "19\n"
     ]
    }
   ],
   "source": [
    "for item in range(1,20,1):\n",
    "    if item == 5:\n",
    "        print('five')\n",
    "        continue\n",
    "    print(item)    "
   ]
  },
  {
   "cell_type": "code",
   "execution_count": 19,
   "metadata": {},
   "outputs": [
    {
     "name": "stdout",
     "output_type": "stream",
     "text": [
      "Banana\n",
      "Pineapple\n",
      "Apple\n",
      "Orange\n"
     ]
    }
   ],
   "source": [
    "# Sets\n",
    "list_ex = [\"Apple\",\"Pineapple\",\"Banana\",\"Apple\",\"Apple\",\"Orange\"]\n",
    "set_ex=set(list_ex)\n",
    "for item in set_ex:\n",
    "    print(item)\n"
   ]
  },
  {
   "cell_type": "code",
   "execution_count": 20,
   "metadata": {},
   "outputs": [
    {
     "name": "stdout",
     "output_type": "stream",
     "text": [
      "<class 'list'>\n",
      "<class 'set'>\n"
     ]
    }
   ],
   "source": [
    "# converting set back to list\n",
    "print(type(list_ex))\n",
    "print(type(set_ex))\n"
   ]
  },
  {
   "cell_type": "code",
   "execution_count": 147,
   "metadata": {},
   "outputs": [
    {
     "name": "stdout",
     "output_type": "stream",
     "text": [
      "<class 'set'>\n",
      "{'q', 'wear', 'apple', 23}\n"
     ]
    },
    {
     "data": {
      "text/plain": [
       "['q', 'wear', 'apple', 23]"
      ]
     },
     "execution_count": 147,
     "metadata": {},
     "output_type": "execute_result"
    }
   ],
   "source": [
    "A = {\"q\",'q',23,'wear',\"apple\",\"apple\"}\n",
    "\n",
    "print(type(A))\n",
    "print(A)\n",
    "turntolist = list(A)\n",
    "turntolist"
   ]
  },
  {
   "cell_type": "code",
   "execution_count": 23,
   "metadata": {},
   "outputs": [
    {
     "name": "stdout",
     "output_type": "stream",
     "text": [
      "<class 'list'>\n",
      "['Banana', 'Pineapple', 'Apple', 'Orange']\n"
     ]
    }
   ],
   "source": [
    "back_to_list = list(set_ex)\n",
    "print(type(back_to_list))\n",
    "print(back_to_list)"
   ]
  },
  {
   "cell_type": "markdown",
   "metadata": {},
   "source": [
    "# Write a program to accept 10 strings Identify the unique items and their count"
   ]
  },
  {
   "cell_type": "code",
   "execution_count": 1,
   "metadata": {},
   "outputs": [],
   "source": [
    "list_ex  = []\n",
    "for item in range(0,10,1):\n",
    "    val = input(\"Enter string \")\n",
    "    val = val.upper()\n",
    "    val = val.title()\n",
    "    list_ex.append(val)\n",
    "\n",
    "unique = set(list)\n",
    "count=0, i=0, j=0\n",
    "for i<10 and j<10:\n",
    "    if list_ex[i]==unique[j]:\n",
    "     count=count+1\n",
    "     i=i+1\n",
    "\n",
    "\n",
    "\n"
   ]
  },
  {
   "cell_type": "code",
   "execution_count": 2,
   "metadata": {},
   "outputs": [],
   "source": []
  },
  {
   "cell_type": "code",
   "execution_count": null,
   "metadata": {},
   "outputs": [],
   "source": [
    "\n"
   ]
  },
  {
   "cell_type": "code",
   "execution_count": null,
   "metadata": {},
   "outputs": [],
   "source": []
  },
  {
   "cell_type": "code",
   "execution_count": null,
   "metadata": {},
   "outputs": [],
   "source": []
  },
  {
   "cell_type": "markdown",
   "metadata": {},
   "source": [
    "# Dictionary"
   ]
  },
  {
   "cell_type": "code",
   "execution_count": 1,
   "metadata": {},
   "outputs": [
    {
     "name": "stdout",
     "output_type": "stream",
     "text": [
      "{'Name': ['Trikalagga', 'Tanisha', 'Trina'], 'Age': [22, 23, 20], 'BooleanVal': True}\n"
     ]
    }
   ],
   "source": [
    "my_dict = {\"Name\":[\"Trikalagga\",\"Tanisha\",\"Trina\"],\"Age\": [22,23,20],\"BooleanVal\":True}\n",
    "print(my_dict)"
   ]
  },
  {
   "cell_type": "code",
   "execution_count": 2,
   "metadata": {},
   "outputs": [
    {
     "name": "stdout",
     "output_type": "stream",
     "text": [
      "['Trikalagga', 'Tanisha', 'Trina']\n"
     ]
    }
   ],
   "source": [
    "print(my_dict[\"Name\"])\n"
   ]
  },
  {
   "cell_type": "code",
   "execution_count": 3,
   "metadata": {},
   "outputs": [
    {
     "name": "stdout",
     "output_type": "stream",
     "text": [
      "{'Name': 'New Name', 'Age': [22, 23, 20], 'BooleanVal': True}\n"
     ]
    }
   ],
   "source": [
    "my_dict[\"Name\"] = \"New Name\"\n",
    "print(my_dict)"
   ]
  },
  {
   "cell_type": "code",
   "execution_count": 4,
   "metadata": {},
   "outputs": [
    {
     "name": "stdout",
     "output_type": "stream",
     "text": [
      "{'Name': 'New Name', 'Age': [22, 23, 20], 'BooleanVal': True, 'Phone': 9456632009}\n"
     ]
    }
   ],
   "source": [
    "my_dict[\"Phone\"]= 9456632009\n",
    "print(my_dict)"
   ]
  },
  {
   "cell_type": "code",
   "execution_count": 5,
   "metadata": {},
   "outputs": [
    {
     "data": {
      "text/plain": [
       "dict_keys(['Name', 'Age', 'BooleanVal', 'Phone'])"
      ]
     },
     "execution_count": 5,
     "metadata": {},
     "output_type": "execute_result"
    }
   ],
   "source": [
    "my_dict.keys()"
   ]
  },
  {
   "cell_type": "code",
   "execution_count": 11,
   "metadata": {},
   "outputs": [
    {
     "name": "stdout",
     "output_type": "stream",
     "text": [
      "dict_values(['New Name', [22, 23, 20], True, 9456632009])\n",
      "New Name\n",
      "[22, 23, 20]\n",
      "True\n",
      "9456632009\n"
     ]
    }
   ],
   "source": [
    "print(my_dict.values())\n",
    "for item in my_dict.values():\n",
    "    print(item)"
   ]
  },
  {
   "cell_type": "code",
   "execution_count": 9,
   "metadata": {},
   "outputs": [
    {
     "ename": "KeyError",
     "evalue": "'cat'",
     "output_type": "error",
     "traceback": [
      "\u001b[1;31m---------------------------------------------------------------------------\u001b[0m",
      "\u001b[1;31mKeyError\u001b[0m                                  Traceback (most recent call last)",
      "\u001b[1;32md:\\PythonClassNotes\\Basics.ipynb Cell 58\u001b[0m line \u001b[0;36m1\n\u001b[1;32m----> <a href='vscode-notebook-cell:/d%3A/PythonClassNotes/Basics.ipynb#Y113sZmlsZQ%3D%3D?line=0'>1</a>\u001b[0m my_dict[\u001b[39m\"\u001b[39;49m\u001b[39mcat\u001b[39;49m\u001b[39m\"\u001b[39;49m]\n",
      "\u001b[1;31mKeyError\u001b[0m: 'cat'"
     ]
    }
   ],
   "source": [
    "my_dict[\"cat\"]"
   ]
  },
  {
   "cell_type": "code",
   "execution_count": 14,
   "metadata": {},
   "outputs": [],
   "source": [
    "student = {\"MScDS\":{\"01\":{\"name\" : \"Abi\",\"phone\":\"987\"}}}\n",
    "\n",
    "studentB = [\n",
    "    {\"name\" : \"Abi\",\"Phone\":\"9876\"},\n",
    "    {\"name\": \"ankita\", \"phone\": 987}\n",
    "]"
   ]
  },
  {
   "cell_type": "code",
   "execution_count": 15,
   "metadata": {},
   "outputs": [
    {
     "name": "stdout",
     "output_type": "stream",
     "text": [
      "{'name': 'Abi', 'phone': '987'}\n"
     ]
    }
   ],
   "source": [
    "print(student[\"MScDS\"][\"01\"])"
   ]
  },
  {
   "cell_type": "code",
   "execution_count": null,
   "metadata": {},
   "outputs": [],
   "source": [
    "print(student[\"MScDS\"][\"01\"][\"name\"],\"\\t\",student)"
   ]
  },
  {
   "cell_type": "code",
   "execution_count": 17,
   "metadata": {},
   "outputs": [],
   "source": [
    "mscdsa = [\n",
    "    {\n",
    "        \"rollnumer\" : 23122001,\n",
    "        \"name\": \"Abhidev\",\n",
    "        \"phone\": 9087,\n",
    "        \"email\" : \"abhide\",\n",
    "    },\n",
    "    {\n",
    "        \"rollnumber\": 23122002,\n",
    "        \"name\": \"abcd\",\n",
    "        \"email\" :\"pqrs\",\n",
    "    }\n",
    "]"
   ]
  },
  {
   "cell_type": "code",
   "execution_count": 18,
   "metadata": {},
   "outputs": [
    {
     "data": {
      "text/plain": [
       "list"
      ]
     },
     "execution_count": 18,
     "metadata": {},
     "output_type": "execute_result"
    }
   ],
   "source": [
    "type(mscdsa)"
   ]
  },
  {
   "cell_type": "code",
   "execution_count": 22,
   "metadata": {},
   "outputs": [
    {
     "name": "stdout",
     "output_type": "stream",
     "text": [
      "[{'rollnumer': 23122001, 'name': 'Abhidev', 'phone': 9087, 'email': 'abhide'}, {'rollnumber': 23122002, 'name': 'abcd', 'phone': 4567, 'email': 'pqrs'}, {'rollnumber': 23122003, 'name': 'ghij', 'phone': 3456, 'email': 'edfr'}, {'rollnumber': 23122003, 'name': 'ghij', 'phone': 3456, 'email': 'edfr'}]\n"
     ]
    }
   ],
   "source": [
    "mscdsa = [\n",
    "    {\n",
    "        \"rollnumer\" : 23122001,\n",
    "        \"name\": \"Abhidev\",\n",
    "        \"phone\": 9087,\n",
    "        \"email\" : \"abhide\",\n",
    "    },\n",
    "    {\n",
    "        \"rollnumber\": 23122002,\n",
    "        \"name\": \"abcd\",\n",
    "        \"phone\" : 4567,\n",
    "        \"email\" :\"pqrs\",\n",
    "    },\n",
    "    {\n",
    "        \"rollnumber\": 23122003,\n",
    "        \"name\": \"ghij\",\n",
    "        \"phone\": 3456,\n",
    "        \"email\" :\"edfr\",\n",
    "    },\n",
    "    {\n",
    "        \"rollnumber\": 23122003,\n",
    "        \"name\": \"ghij\",\n",
    "        \"phone\": 3456,\n",
    "        \"email\" :\"edfr\",\n",
    "    }\n",
    "]\n",
    "\n",
    "\n",
    "print(mscdsa)"
   ]
  },
  {
   "cell_type": "code",
   "execution_count": 27,
   "metadata": {},
   "outputs": [
    {
     "name": "stdout",
     "output_type": "stream",
     "text": [
      "{'rollnumer': 23122001, 'name': 'Abhidev', 'phone': 9087, 'email': 'abhide'}\n",
      "rollnumer\n",
      "23122001\tname\n",
      "Abhidev\tphone\n",
      "9087\temail\n",
      "abhide\t\n",
      "{'rollnumber': 23122002, 'name': 'abcd', 'phone': 4567, 'email': 'pqrs'}\n",
      "rollnumber\n",
      "23122002\tname\n",
      "abcd\tphone\n",
      "4567\temail\n",
      "pqrs\t\n",
      "{'rollnumber': 23122003, 'name': 'ghij', 'phone': 3456, 'email': 'edfr'}\n",
      "rollnumber\n",
      "23122003\tname\n",
      "ghij\tphone\n",
      "3456\temail\n",
      "edfr\t\n",
      "{'rollnumber': 23122003, 'name': 'ghij', 'phone': 3456, 'email': 'edfr'}\n",
      "rollnumber\n",
      "23122003\tname\n",
      "ghij\tphone\n",
      "3456\temail\n",
      "edfr\t\n"
     ]
    }
   ],
   "source": [
    "for student in mscdsa:\n",
    "    print(student)\n",
    "    for key in student.keys():\n",
    "        print(key)\n",
    "        print(student[key],end=\"\\t\")\n",
    "    print()"
   ]
  },
  {
   "cell_type": "markdown",
   "metadata": {},
   "source": [
    "# Menu driven Program"
   ]
  },
  {
   "cell_type": "markdown",
   "metadata": {},
   "source": []
  },
  {
   "cell_type": "code",
   "execution_count": 12,
   "metadata": {},
   "outputs": [
    {
     "name": "stdout",
     "output_type": "stream",
     "text": [
      "Name Management Aplication\n",
      "******************************\n",
      "1. Enter a name\n",
      "2.LIst the names\n",
      "3.Search for a Name\n",
      "Exit\n",
      "******************************\n",
      "You have entered choice : 2\n",
      "******************************\n",
      "Names in the list\n",
      "******************************\n",
      "******************************\n",
      "******************************\n",
      "1. Enter a name\n",
      "2.LIst the names\n",
      "3.Search for a Name\n",
      "Exit\n",
      "******************************\n",
      "You have entered choice : 3\n",
      "******************************\n",
      "1. Enter a name\n",
      "2.LIst the names\n",
      "3.Search for a Name\n",
      "Exit\n",
      "******************************\n",
      "You have entered choice : 2\n",
      "******************************\n",
      "Names in the list\n",
      "******************************\n",
      "******************************\n",
      "******************************\n",
      "1. Enter a name\n",
      "2.LIst the names\n",
      "3.Search for a Name\n",
      "Exit\n",
      "******************************\n",
      "You have entered choice : 1\n",
      "Name Trika added successfully !\n",
      "******************************\n",
      "1. Enter a name\n",
      "2.LIst the names\n",
      "3.Search for a Name\n",
      "Exit\n",
      "******************************\n",
      "You have entered choice : 3\n",
      "******************************\n",
      "1. Enter a name\n",
      "2.LIst the names\n",
      "3.Search for a Name\n",
      "Exit\n",
      "******************************\n",
      "You have entered choice : 4\n",
      "******************************\n",
      "1. Enter a name\n",
      "2.LIst the names\n",
      "3.Search for a Name\n",
      "Exit\n",
      "******************************\n",
      "You have entered choice : \n"
     ]
    },
    {
     "ename": "ValueError",
     "evalue": "invalid literal for int() with base 10: ''",
     "output_type": "error",
     "traceback": [
      "\u001b[1;31m---------------------------------------------------------------------------\u001b[0m",
      "\u001b[1;31mValueError\u001b[0m                                Traceback (most recent call last)",
      "\u001b[1;32md:\\PythonClassNotes\\Basics.ipynb Cell 70\u001b[0m line \u001b[0;36m3\n\u001b[0;32m     <a href='vscode-notebook-cell:/d%3A/PythonClassNotes/Basics.ipynb#Y126sZmlsZQ%3D%3D?line=30'>31</a>\u001b[0m choice \u001b[39m=\u001b[39m \u001b[39minput\u001b[39m(\u001b[39m\"\u001b[39m\u001b[39mEnter your Choice ?\u001b[39m\u001b[39m\"\u001b[39m)\n\u001b[0;32m     <a href='vscode-notebook-cell:/d%3A/PythonClassNotes/Basics.ipynb#Y126sZmlsZQ%3D%3D?line=31'>32</a>\u001b[0m \u001b[39mprint\u001b[39m(\u001b[39m\"\u001b[39m\u001b[39mYou have entered choice :\u001b[39m\u001b[39m\"\u001b[39m, choice) \n\u001b[1;32m---> <a href='vscode-notebook-cell:/d%3A/PythonClassNotes/Basics.ipynb#Y126sZmlsZQ%3D%3D?line=33'>34</a>\u001b[0m \u001b[39mif\u001b[39;00m \u001b[39mint\u001b[39;49m(choice) \u001b[39m==\u001b[39m \u001b[39m1\u001b[39m:\n\u001b[0;32m     <a href='vscode-notebook-cell:/d%3A/PythonClassNotes/Basics.ipynb#Y126sZmlsZQ%3D%3D?line=34'>35</a>\u001b[0m     name \u001b[39m=\u001b[39m storeName()\n\u001b[0;32m     <a href='vscode-notebook-cell:/d%3A/PythonClassNotes/Basics.ipynb#Y126sZmlsZQ%3D%3D?line=35'>36</a>\u001b[0m     \u001b[39mprint\u001b[39m(\u001b[39m\"\u001b[39m\u001b[39mName \u001b[39m\u001b[39m{}\u001b[39;00m\u001b[39m added successfully !\u001b[39m\u001b[39m\"\u001b[39m\u001b[39m.\u001b[39mformat(name)) \n",
      "\u001b[1;31mValueError\u001b[0m: invalid literal for int() with base 10: ''"
     ]
    },
    {
     "ename": "",
     "evalue": "",
     "output_type": "error",
     "traceback": [
      "\u001b[1;31mThe Kernel crashed while executing code in the the current cell or a previous cell. Please review the code in the cell(s) to identify a possible cause of the failure. Click <a href='https://aka.ms/vscodeJupyterKernelCrash'>here</a> for more info. View Jupyter <a href='command:jupyter.viewOutput'>log</a> for further details."
     ]
    }
   ],
   "source": [
    "nameList = []\n",
    "def storeName():\n",
    "    name = input(\"Enter the name to be saved :\")\n",
    "    name = name.strip().title()\n",
    "    nameList.append(name)\n",
    "    return name\n",
    "\n",
    "def listNames():\n",
    "    print(\"*\"*30)\n",
    "    print(\"Names in the list\")\n",
    "    print(\"*\"*30)\n",
    "    for name in nameList:\n",
    "        print(name)\n",
    "    print(\"*\"*30)\n",
    "\n",
    "def searchName(search):\n",
    "    search = input('Enter the name to be searched')\n",
    "    for name in nameList:\n",
    "        if name == search:\n",
    "            print(\"Name exist in the list\")\n",
    "            \n",
    "print(\"Name Management Aplication\")\n",
    "while True:\n",
    "    print(\"*\"*30)\n",
    "    print(\"1. Enter a name\")\n",
    "    print(\"2.LIst the names\")\n",
    "    print(\"3.Search for a Name\")\n",
    "    print(\"Exit\")\n",
    "    print(\"*\"*30)\n",
    "   \n",
    "    choice = input(\"Enter your Choice ?\")\n",
    "    print(\"You have entered choice :\", choice) \n",
    "\n",
    "    if int(choice) == 1:\n",
    "        name = storeName()\n",
    "        print(\"Name {} added successfully !\".format(name)) \n",
    "    elif int(choice) == 2:\n",
    "        listNames()\n",
    "    elif int(choice) == 3:\n",
    "        name = input(\"Enter a name to be searched\")\n",
    "        searchName(name)\n",
    "    elif int(choice) == 4:\n",
    "        exit()\n",
    "\n",
    "    else:\n",
    "        print(\"Invalid option..!\")\n"
   ]
  },
  {
   "cell_type": "code",
   "execution_count": 9,
   "metadata": {},
   "outputs": [
    {
     "name": "stdout",
     "output_type": "stream",
     "text": [
      "You have entered choice : 2\n",
      "******************************\n",
      "Names in the list\n",
      "******************************\n",
      "******************************\n"
     ]
    }
   ],
   "source": [
    "namelst = []\n",
    "\n",
    "def storeName():\n",
    "    no_of_names =int(input('Enter the no. of names to be stored'))\n",
    "    for i in range(no_of_names):\n",
    "        name= input(\"Enter the name to be saved\")\n",
    "        name= name.strip().title()\n",
    "        namelst.append(name)\n",
    "    # return name\n",
    "\n",
    "def listNames(name):\n",
    "    print(\"*\"*30)\n",
    "    print(\"Names in the list\")\n",
    "    print(\"*\"*30)\n",
    "    for name in namelst:\n",
    "        print(name)\n",
    "    print(\"*\"*30)\n",
    "    return name\n",
    "\n",
    "def searchName(name):\n",
    "    search = input('Enter the name to be searched')\n",
    "    search= search.strip().title()\n",
    "    for name in namelst:\n",
    "        if name == search:\n",
    "            print(\"Name exist in the list\")\n",
    "\n",
    "        else:\n",
    "            print('Name is not found')\n",
    "\n",
    "\n",
    "choice = input(\"Enter your Choice ?\")\n",
    "print(\"You have entered choice :\", choice) \n",
    "\n",
    "if int(choice) == 1:\n",
    "    name = storeName()\n",
    "    #print(\"Name {} added successfully !\".format(name)) \n",
    "elif int(choice) == 2:\n",
    "    listNames(name)\n",
    "elif int(choice) == 3:\n",
    "    name = input(\"Enter a name to be searched\")\n",
    "    searchName(name)\n",
    "elif int(choice) == 4:\n",
    "    exit()\n",
    "\n",
    "else:\n",
    "    print(\"Invalid option..!\")\n",
    "\n",
    "\n",
    "# storeName()\n",
    "# listNames()\n",
    "# searchName()\n",
    "\n"
   ]
  },
  {
   "cell_type": "code",
   "execution_count": null,
   "metadata": {},
   "outputs": [
    {
     "name": "stdout",
     "output_type": "stream",
     "text": [
      "Trika\n",
      "nishi\n",
      "Trika\n",
      "nishi\n"
     ]
    }
   ],
   "source": [
    "sample = {\"name\": [\"Trika\", \"nishi\"], \"number\": [41,22]}\n",
    "search = \"Trika\"\n",
    "for key, value in sample.items():\n",
    "    for name in sample[\"name\"]:\n",
    "        print(name)\n",
    "        # if name == search:\n",
    "        #     print(\"Name exists. The searched name is \", name)\n"
   ]
  },
  {
   "cell_type": "code",
   "execution_count": 5,
   "metadata": {},
   "outputs": [
    {
     "name": "stdout",
     "output_type": "stream",
     "text": [
      "['Trika', 'nishi']\n",
      "[41, 22]\n"
     ]
    }
   ],
   "source": [
    "for value in sample.values():\n",
    "    print(value)"
   ]
  },
  {
   "cell_type": "code",
   "execution_count": 1,
   "metadata": {},
   "outputs": [
    {
     "name": "stdout",
     "output_type": "stream",
     "text": [
      "0,1,1,2,3,5"
     ]
    }
   ],
   "source": [
    "# fibonacci series\n",
    "lst=[0,1]\n",
    "\n",
    "def fibonacci_series():\n",
    "    n=int(input(\"Enter the number of terms to be printed\"))\n",
    "    a=0\n",
    "    b=1\n",
    "    \n",
    "    for i in range(n-2):\n",
    "        \n",
    "            c=a+b\n",
    "            a=b\n",
    "            b=c\n",
    "            lst.append(c) \n",
    "    for t in lst:\n",
    "        if t==lst[n-1]:\n",
    "            print(t,end=\"\")\n",
    "        else:\n",
    "            print(t,end=\",\")  \n",
    "                                                \n",
    "# Calling function\n",
    "fibonacci_series()      "
   ]
  },
  {
   "cell_type": "code",
   "execution_count": 64,
   "metadata": {},
   "outputs": [
    {
     "name": "stdout",
     "output_type": "stream",
     "text": [
      "w,w,e,r,q,w,r,f,w"
     ]
    }
   ],
   "source": [
    "a=\"wwerqwrfw\"\n",
    "for i in range(len(a)):\n",
    "    if i==(len(a)-1):\n",
    "        print(a[i],end=\"\")\n",
    "    else:\n",
    "        print(a[i],end=\",\")"
   ]
  },
  {
   "cell_type": "code",
   "execution_count": 7,
   "metadata": {},
   "outputs": [
    {
     "name": "stdout",
     "output_type": "stream",
     "text": [
      "Value of n as chosen is 9\n",
      "2,3,5,7,9"
     ]
    }
   ],
   "source": [
    "# Generating prime numbers in the range (0,n)\n",
    "\n",
    "n=int(input(\"Enter any natural number greater than 1\"))\n",
    "print(\"Value of n as chosen is\",n)\n",
    "\n",
    "for i in range(2,n+1):\n",
    "    if i==2:\n",
    "         print(i,end=\",\")\n",
    "    elif i%2==0:\n",
    "       pass\n",
    "    else:\n",
    "       if i==n:\n",
    "          print(i,end=\"\")\n",
    "       else:\n",
    "          print(i,end=\",\")"
   ]
  },
  {
   "cell_type": "code",
   "execution_count": 8,
   "metadata": {},
   "outputs": [
    {
     "name": "stdout",
     "output_type": "stream",
     "text": [
      "karan\n",
      "['Akash', 'Asma', 'Karan', 'Pankaj', 'Yateen', 'karan']\n",
      "['karan', 'Yateen', 'Pankaj', 'Karan', 'Asma', 'Akash']\n"
     ]
    }
   ],
   "source": [
    "mylist=['Pankaj','Karan','Akash','Asma','karan','Yateen']\n",
    "\n",
    "print(max(mylist))\n",
    "mylist.sort()\n",
    "print(mylist)\n",
    "mylist.sort(reverse=True)\n",
    "print(mylist)\n"
   ]
  },
  {
   "cell_type": "code",
   "execution_count": 9,
   "metadata": {},
   "outputs": [
    {
     "name": "stdout",
     "output_type": "stream",
     "text": [
      "[45, 56, 21]\n",
      "[45, 56, 21, 100]\n",
      "[1, 67, 78]\n",
      "[1, 45, 67, 56, 78, 21]\n"
     ]
    }
   ],
   "source": [
    "lst=[1,45,67,56,78,21,99,100]\n",
    "print(lst[1:6:2])\n",
    "print(lst[1::2])\n",
    "print(lst[:6:2])\n",
    "print(lst[:6:])"
   ]
  },
  {
   "cell_type": "code",
   "execution_count": 6,
   "metadata": {},
   "outputs": [
    {
     "name": "stdout",
     "output_type": "stream",
     "text": [
      "2\n"
     ]
    },
    {
     "ename": "TypeError",
     "evalue": "int() argument must be a string, a bytes-like object or a real number, not 'range'",
     "output_type": "error",
     "traceback": [
      "\u001b[1;31m---------------------------------------------------------------------------\u001b[0m",
      "\u001b[1;31mTypeError\u001b[0m                                 Traceback (most recent call last)",
      "\u001b[1;32md:\\PythonClassNotes\\Basics.ipynb Cell 79\u001b[0m line \u001b[0;36m5\n\u001b[0;32m      <a href='vscode-notebook-cell:/d%3A/PythonClassNotes/Basics.ipynb#Y141sZmlsZQ%3D%3D?line=2'>3</a>\u001b[0m \u001b[39mif\u001b[39;00m i\u001b[39m==\u001b[39m\u001b[39m2\u001b[39m:\n\u001b[0;32m      <a href='vscode-notebook-cell:/d%3A/PythonClassNotes/Basics.ipynb#Y141sZmlsZQ%3D%3D?line=3'>4</a>\u001b[0m     \u001b[39mprint\u001b[39m(i)\n\u001b[1;32m----> <a href='vscode-notebook-cell:/d%3A/PythonClassNotes/Basics.ipynb#Y141sZmlsZQ%3D%3D?line=4'>5</a>\u001b[0m \u001b[39melif\u001b[39;00m i\u001b[39m%\u001b[39m\u001b[39mint\u001b[39;49m(\u001b[39mrange\u001b[39;49m(\u001b[39m2\u001b[39;49m,n\u001b[39m+\u001b[39;49m\u001b[39m1\u001b[39;49m))\u001b[39m==\u001b[39m\u001b[39m0\u001b[39m:\n\u001b[0;32m      <a href='vscode-notebook-cell:/d%3A/PythonClassNotes/Basics.ipynb#Y141sZmlsZQ%3D%3D?line=5'>6</a>\u001b[0m     \u001b[39mpass\u001b[39;00m\n\u001b[0;32m      <a href='vscode-notebook-cell:/d%3A/PythonClassNotes/Basics.ipynb#Y141sZmlsZQ%3D%3D?line=6'>7</a>\u001b[0m \u001b[39melse\u001b[39;00m:\n",
      "\u001b[1;31mTypeError\u001b[0m: int() argument must be a string, a bytes-like object or a real number, not 'range'"
     ]
    }
   ],
   "source": [
    "\n",
    "n=int(input())\n",
    "for i in range(2,n+1):\n",
    "    if i==2:\n",
    "        print(i)\n",
    "    elif i%int(range(2,n+1))==0:\n",
    "        pass\n",
    "    else:\n",
    "        print(i)\n",
    "    "
   ]
  },
  {
   "cell_type": "code",
   "execution_count": 6,
   "metadata": {},
   "outputs": [
    {
     "name": "stdout",
     "output_type": "stream",
     "text": [
      "2\n"
     ]
    }
   ],
   "source": [
    "for item in range(2,n+1):\n",
    "            j=item\n",
    "i=2\n",
    "n=int(input())\n",
    "if i<n+1:\n",
    "    if i==2:\n",
    "        print(i)\n",
    "        i=i+1\n",
    "    elif i%j==0:\n",
    "           pass\n",
    "    else:\n",
    "           print(i)\n",
    "    \n"
   ]
  },
  {
   "cell_type": "code",
   "execution_count": null,
   "metadata": {},
   "outputs": [],
   "source": []
  }
 ],
 "metadata": {
  "kernelspec": {
   "display_name": "Python 3",
   "language": "python",
   "name": "python3"
  },
  "language_info": {
   "codemirror_mode": {
    "name": "ipython",
    "version": 3
   },
   "file_extension": ".py",
   "mimetype": "text/x-python",
   "name": "python",
   "nbconvert_exporter": "python",
   "pygments_lexer": "ipython3",
   "version": "3.11.4"
  },
  "orig_nbformat": 4
 },
 "nbformat": 4,
 "nbformat_minor": 2
}
