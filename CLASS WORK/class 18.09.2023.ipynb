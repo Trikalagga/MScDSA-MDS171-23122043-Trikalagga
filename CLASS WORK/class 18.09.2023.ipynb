{
 "cells": [
  {
   "cell_type": "markdown",
   "metadata": {},
   "source": [
    "# class\n"
   ]
  },
  {
   "cell_type": "code",
   "execution_count": 1,
   "metadata": {},
   "outputs": [
    {
     "name": "stdout",
     "output_type": "stream",
     "text": [
      "Name: Trika\n",
      "Email: trik23@gmail.com\n",
      "Phone: 8897066575\n",
      "Trika\n"
     ]
    }
   ],
   "source": [
    "class Student():\n",
    "    #data members\n",
    "    #name, email, phone,...\n",
    "\n",
    "    # member functions\n",
    "    def __init__(self):\n",
    "        self.name = \"Trika\"\n",
    "        self.email = \"trik23@gmail.com\"\n",
    "        self.phone = 8897066575\n",
    "\n",
    "    def printStudent(self):\n",
    "        print(\"Name: {}\\nEmail: {}\\nPhone: {}\".format(self.name,self.email,self.phone))\n",
    "\n",
    "    def _str_(self):\n",
    "        pass\n",
    "\n",
    "trika = Student()\n",
    "trika.printStudent()\n",
    "print(trika.name)\n"
   ]
  },
  {
   "cell_type": "code",
   "execution_count": 13,
   "metadata": {},
   "outputs": [
    {
     "name": "stdout",
     "output_type": "stream",
     "text": [
      "Name: Troy\n",
      "Email ID: try76\n",
      "Place: 123456\n",
      "\n",
      "\n",
      "Entered name is not found\n"
     ]
    }
   ],
   "source": [
    "class studentinfo():\n",
    "    def __init__(self):\n",
    "        self.name= input()\n",
    "        self.email= input()\n",
    "        self.place= input()\n",
    "\n",
    "    def printstudent(self):\n",
    "        print(\"Name: {}\\nEmail ID: {}\\nPlace: {}\".format(self.name,self.email,self.place))\n",
    "\n",
    "    def updateinformation(self):\n",
    "        if  self.name==input():\n",
    "            self.newemail=input()\n",
    "            self.newplace=input()\n",
    "\n",
    "            print(\"Name: {}\\nEmail ID: {}\\nPlace: {}\".format(self.name,self.newemail,self.newplace))\n",
    "        \n",
    "        else:\n",
    "            print(\"Entered name is not found\")\n",
    "            \n",
    "ready = studentinfo()\n",
    "ready.printstudent()\n",
    "print(\"\\n\")\n",
    "ready.updateinformation()\n"
   ]
  },
  {
   "cell_type": "code",
   "execution_count": 1,
   "metadata": {},
   "outputs": [
    {
     "name": "stdout",
     "output_type": "stream",
     "text": [
      "Trika MSc\n",
      "Trika\n",
      "<class '__main__.Student'>\n"
     ]
    }
   ],
   "source": [
    "# class Student:\n",
    "#     def __init__(self,a,b):\n",
    "#         self.name = a\n",
    "#         self.stu_class = b\n",
    "\n",
    "#     def __str__(self):\n",
    "#         return self.name\n",
    "    \n",
    "# abc = Student(\"Trika\",\"MSc\")\n",
    "# print(abc.name,abc.stu_class)\n",
    "# print(abc)\n",
    "# print(type(abc))\n"
   ]
  },
  {
   "cell_type": "code",
   "execution_count": 24,
   "metadata": {},
   "outputs": [
    {
     "name": "stdout",
     "output_type": "stream",
     "text": [
      "Item Quantity Total price\n",
      " ******************** \n",
      "\n",
      "roti    5    75\n"
     ]
    }
   ],
   "source": [
    "# Create a class restaurant, that accepts itemnme & qty as input\n",
    "# inside your class you are having the item and its price as a dictionary\n",
    "# create a function that prints the itemnme, qty & price\n",
    "\n",
    "class restaurant:\n",
    "    def __init__(self,item,qty):\n",
    "        self.item = item\n",
    "        self.qty = qty\n",
    "        self.menu = {\"rice\":30,\"chicken\":100,\"roti\":15}\n",
    "    \n",
    "        \n",
    "    def findCost(self):\n",
    "        self.total =0\n",
    "        self.total = self.qty* self.menu[self.item]\n",
    "        print(\"Item Quantity Total price\\n\",\"*\"*20,\"\\n\")\n",
    "        print(self.item,\"  \",self.qty,\"  \",self.total)\n",
    "\n",
    "order = restaurant(input(\"Please select a dish\"),int(input(\"Please enter the quantity you want\"))) \n",
    "order.findCost()\n",
    "\n"
   ]
  },
  {
   "cell_type": "code",
   "execution_count": 4,
   "metadata": {},
   "outputs": [
    {
     "name": "stdout",
     "output_type": "stream",
     "text": [
      "chicken 3 300\n"
     ]
    }
   ],
   "source": [
    "order2=restaurant(\"chicken\",3)\n",
    "order2.findCost()"
   ]
  },
  {
   "cell_type": "code",
   "execution_count": 7,
   "metadata": {},
   "outputs": [
    {
     "name": "stdout",
     "output_type": "stream",
     "text": [
      "Item    Quantity    Total price\n",
      " ******************************* \n",
      "\n",
      "Kadhi    3      135\n"
     ]
    }
   ],
   "source": [
    "class eatery:\n",
    "    def __init__(self,item,qty):\n",
    "        self.item=item\n",
    "        self.qty=qty\n",
    "        self.menu={'Roti':12,'Rice':40,'Pulav':100,'Kadhi':45}\n",
    "\n",
    "    def findCost(self):\n",
    "        self.total=0\n",
    "        self.total=self.qty*self.menu[self.item]\n",
    "        print(\"Item    Quantity    Total price\\n\",\"*\"*31,\"\\n\")\n",
    "        print(self.item,\"  \",self.qty,\"    \",self.total)\n",
    "\n",
    "order=eatery(\"Kadhi\",3)\n",
    "order.findCost()\n"
   ]
  },
  {
   "cell_type": "markdown",
   "metadata": {},
   "source": [
    "### 21.09.2023  class objects"
   ]
  },
  {
   "cell_type": "code",
   "execution_count": 17,
   "metadata": {},
   "outputs": [
    {
     "name": "stdout",
     "output_type": "stream",
     "text": [
      "INCOME\n",
      "{'Category': 'Electricity Bill', 'Cost': 4500, 'Description': 'amenities', 'Date': '22nd Sep'}\n",
      "{'Category': 'Food', 'Cost': 500, 'Description': 'amenities', 'Date': '22nd Sep'}\n",
      "EXPENSES\n",
      "{'Category': 'Electricity Bill', 'Cost': 4500, 'Description': 'amenities', 'Date': '22nd Sep'}\n",
      "{'Category': 'Food', 'Cost': 500, 'Description': 'amenities', 'Date': '22nd Sep'}\n",
      "Total income\n",
      "10500\n",
      "Total Expense\n",
      "5000\n"
     ]
    }
   ],
   "source": [
    "#  Define a class expense tracker that stores the expenses and income\n",
    "#  in a dictionary. Implement the method to \n",
    "#   - store the transaction;\n",
    "#   - view transaction;\n",
    "#   - calculate the total expense/income\n",
    "\n",
    "\n",
    "class expensetracker:\n",
    "    \n",
    "    def __init__(self):\n",
    "        self.transactions ={\n",
    "            \"expenses\" : [],\n",
    "            \"income\" : [],\n",
    "            }\n",
    "        \n",
    "    def storetransaction(self,type,category,cost,description,date):\n",
    "        transaction ={\n",
    "              \"Category\": category,\n",
    "              \"Cost\" : cost,\n",
    "              \"Description\": description,\n",
    "              \"Date\": date,\n",
    "              }\n",
    "\n",
    "        if  type == \"expenses\": \n",
    "            self.transactions['expenses'].append(transaction)\n",
    "\n",
    "        else:\n",
    "            self.transactions['income'].append(transaction)\n",
    "    # expense\n",
    "    # type/category\n",
    "    # cost/amount\n",
    "    # description on the transaction\n",
    "    # date [DD/MM/YYYY]\n",
    "            return True\n",
    "        \n",
    "    def view_transactions(self):\n",
    "        print(\"INCOME\")\n",
    "        for expense in self.transactions['expenses']:\n",
    "            print(expense)\n",
    "\n",
    "        print(\"EXPENSES\")\n",
    "        for expense in self.transactions['expenses']:\n",
    "            print(expense)  \n",
    "\n",
    "    # total income\n",
    "    def total_incomeexpense(self):\n",
    "        print(\"Total income\")\n",
    "        total_income = 0\n",
    "        for income in self.transactions['income']:\n",
    "            total_income+=income[\"Cost\"]\n",
    "        print(total_income)\n",
    "\n",
    "        print(\"Total Expense\")\n",
    "        total_expense = 0\n",
    "        for expense in self.transactions['expenses']:\n",
    "              total_expense += expense[\"Cost\"]\n",
    "        print(total_expense)\n",
    "\n",
    "mytransactions = expensetracker()\n",
    "mytransactions.storetransaction(\"expenses\",\"Electricity Bill\",4500,\"amenities\",\"22nd Sep\")\n",
    "mytransactions.storetransaction(\"income\",\"Pocket Money\",10500,\"amenities\",\"22nd Sep\")\n",
    "mytransactions.storetransaction(\"expenses\",\"Food\",500,\"amenities\",\"22nd Sep\")\n",
    "\n",
    "mytransactions.view_transactions()\n",
    "mytransactions.total_incomeexpense()\n",
    "                                        "
   ]
  },
  {
   "cell_type": "markdown",
   "metadata": {},
   "source": [
    "## 05-10-2023"
   ]
  },
  {
   "cell_type": "markdown",
   "metadata": {},
   "source": []
  },
  {
   "cell_type": "code",
   "execution_count": 10,
   "metadata": {},
   "outputs": [
    {
     "data": {
      "text/plain": [
       "['dog', 'cat', 'cow', 'horse', 'camel', 'ox', 'fox']"
      ]
     },
     "execution_count": 10,
     "metadata": {},
     "output_type": "execute_result"
    }
   ],
   "source": [
    "animals= ['dog','cat','horse','camel']\n",
    "animals.insert(2,'cow')\n",
    "#animals\n",
    "animals1 = ['ox','fox']\n",
    "animals.extend(animals1)\n",
    "animals"
   ]
  },
  {
   "cell_type": "code",
   "execution_count": 29,
   "metadata": {},
   "outputs": [
    {
     "data": {
      "text/plain": [
       "[]"
      ]
     },
     "execution_count": 29,
     "metadata": {},
     "output_type": "execute_result"
    }
   ],
   "source": [
    "animals= ['dog','cat','ox']\n",
    "animals\n",
    "animals.clear()\n",
    "animals\n"
   ]
  },
  {
   "cell_type": "code",
   "execution_count": 36,
   "metadata": {},
   "outputs": [
    {
     "data": {
      "text/plain": [
       "1"
      ]
     },
     "execution_count": 36,
     "metadata": {},
     "output_type": "execute_result"
    }
   ],
   "source": [
    "points = [1,4,3,66,4,[2,4,5],4,1,5,5]\n",
    "x = points.count([2,4,5])\n",
    "x"
   ]
  },
  {
   "cell_type": "code",
   "execution_count": null,
   "metadata": {},
   "outputs": [],
   "source": []
  }
 ],
 "metadata": {
  "kernelspec": {
   "display_name": "Python 3",
   "language": "python",
   "name": "python3"
  },
  "language_info": {
   "codemirror_mode": {
    "name": "ipython",
    "version": 3
   },
   "file_extension": ".py",
   "mimetype": "text/x-python",
   "name": "python",
   "nbconvert_exporter": "python",
   "pygments_lexer": "ipython3",
   "version": "3.11.4"
  },
  "orig_nbformat": 4
 },
 "nbformat": 4,
 "nbformat_minor": 2
}
