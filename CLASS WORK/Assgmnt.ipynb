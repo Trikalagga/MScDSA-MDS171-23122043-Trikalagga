{
 "cells": [
  {
   "cell_type": "code",
   "execution_count": null,
   "metadata": {},
   "outputs": [],
   "source": []
  },
  {
   "cell_type": "code",
   "execution_count": null,
   "metadata": {},
   "outputs": [],
   "source": [
    "import random\n",
    "def createAccount():\n",
    "    accountNum = \"\"\n",
    "    j = str(random.randint(0,9))\n",
    "    accounNum = accountNum + j\n",
    "details = []\n",
    "name = input(\"Enter name : \")\n",
    "age = input(\"Enter Age : \")\n",
    "aadhar = input(\"Enter Aadhar no. : \")\n",
    "phno = input(\"Enter mobile no.: \")\n",
    "acctype = input(\"Enter account type: Savings or Current ?\")\n",
    "details.update({\"name\" : name, \"age\": age, \"aadhar\": aadhar, \"phone number\": phno, \"account type\": accType})\n",
    "customers.update({accountNum:details})\n",
    "\n",
    "\n",
    "createAccount()"
   ]
  },
  {
   "cell_type": "code",
   "execution_count": null,
   "metadata": {},
   "outputs": [],
   "source": [
    "x=133.1\n",
    "y=11\n",
    "num1 = x+y\n",
    "num2 = x-y\n",
    "num3 = x*y \n",
    "num4 = x/y \n",
    "num5 = x//y \n",
    "print(num1)\n",
    "print(num2)\n",
    "print(num3)\n",
    "print(num4)\n",
    "print(num5)\n",
    "\n"
   ]
  },
  {
   "cell_type": "markdown",
   "metadata": {},
   "source": [
    "# Write a Python program that uses a while loop to print the numbers from 1 to 10.\n",
    "\n"
   ]
  },
  {
   "cell_type": "code",
   "execution_count": 1,
   "metadata": {},
   "outputs": [
    {
     "ename": "NameError",
     "evalue": "name 'i' is not defined",
     "output_type": "error",
     "traceback": [
      "\u001b[1;31m---------------------------------------------------------------------------\u001b[0m",
      "\u001b[1;31mNameError\u001b[0m                                 Traceback (most recent call last)",
      "\u001b[1;32md:\\PythonClassNotes\\Assgmnt.ipynb Cell 6\u001b[0m line \u001b[0;36m1\n\u001b[1;32m----> <a href='vscode-notebook-cell:/d%3A/PythonClassNotes/Assgmnt.ipynb#W5sZmlsZQ%3D%3D?line=0'>1</a>\u001b[0m \u001b[39mwhile\u001b[39;00m i \u001b[39min\u001b[39;00m \u001b[39mrange\u001b[39m(\u001b[39m1\u001b[39m,\u001b[39m11\u001b[39m,\u001b[39m1\u001b[39m):\n\u001b[0;32m      <a href='vscode-notebook-cell:/d%3A/PythonClassNotes/Assgmnt.ipynb#W5sZmlsZQ%3D%3D?line=1'>2</a>\u001b[0m     \u001b[39mprint\u001b[39m(i)\n",
      "\u001b[1;31mNameError\u001b[0m: name 'i' is not defined"
     ]
    }
   ],
   "source": [
    "i=1\n",
    "while i in range(1,11,1):\n",
    "    print(i)"
   ]
  },
  {
   "cell_type": "code",
   "execution_count": 3,
   "metadata": {},
   "outputs": [],
   "source": [
    "import pandas as pd"
   ]
  },
  {
   "cell_type": "code",
   "execution_count": 12,
   "metadata": {},
   "outputs": [],
   "source": [
    "prgrm= {\n",
    "    'Artist':['Vidya Dengle','Kaushiki Chakraborty','Anushka Shankar'],\n",
    "    'Instument/Vocal':['Violin','Vocal','Sitar'],\n",
    "    'Raga':['Ahir Bhairav','Madhuvanti','Kafi']\n",
    "}\n"
   ]
  },
  {
   "cell_type": "code",
   "execution_count": 13,
   "metadata": {},
   "outputs": [],
   "source": [
    "df=pd.DataFrame(prgrm)"
   ]
  },
  {
   "cell_type": "code",
   "execution_count": 15,
   "metadata": {},
   "outputs": [
    {
     "data": {
      "text/html": [
       "<div>\n",
       "<style scoped>\n",
       "    .dataframe tbody tr th:only-of-type {\n",
       "        vertical-align: middle;\n",
       "    }\n",
       "\n",
       "    .dataframe tbody tr th {\n",
       "        vertical-align: top;\n",
       "    }\n",
       "\n",
       "    .dataframe thead th {\n",
       "        text-align: right;\n",
       "    }\n",
       "</style>\n",
       "<table border=\"1\" class=\"dataframe\">\n",
       "  <thead>\n",
       "    <tr style=\"text-align: right;\">\n",
       "      <th></th>\n",
       "      <th>Artist</th>\n",
       "      <th>Instument/Vocal</th>\n",
       "      <th>Raga</th>\n",
       "    </tr>\n",
       "  </thead>\n",
       "  <tbody>\n",
       "    <tr>\n",
       "      <th>0</th>\n",
       "      <td>Vidya Dengle</td>\n",
       "      <td>Violin</td>\n",
       "      <td>Ahir Bhairav</td>\n",
       "    </tr>\n",
       "    <tr>\n",
       "      <th>1</th>\n",
       "      <td>Kaushiki Chakraborty</td>\n",
       "      <td>Vocal</td>\n",
       "      <td>Madhuvanti</td>\n",
       "    </tr>\n",
       "    <tr>\n",
       "      <th>2</th>\n",
       "      <td>Anushka Shankar</td>\n",
       "      <td>Sitar</td>\n",
       "      <td>Kafi</td>\n",
       "    </tr>\n",
       "  </tbody>\n",
       "</table>\n",
       "</div>"
      ],
      "text/plain": [
       "                 Artist Instument/Vocal          Raga\n",
       "0          Vidya Dengle          Violin  Ahir Bhairav\n",
       "1  Kaushiki Chakraborty           Vocal    Madhuvanti\n",
       "2       Anushka Shankar           Sitar          Kafi"
      ]
     },
     "execution_count": 15,
     "metadata": {},
     "output_type": "execute_result"
    }
   ],
   "source": [
    "df"
   ]
  },
  {
   "cell_type": "code",
   "execution_count": 16,
   "metadata": {},
   "outputs": [
    {
     "data": {
      "text/html": [
       "<div>\n",
       "<style scoped>\n",
       "    .dataframe tbody tr th:only-of-type {\n",
       "        vertical-align: middle;\n",
       "    }\n",
       "\n",
       "    .dataframe tbody tr th {\n",
       "        vertical-align: top;\n",
       "    }\n",
       "\n",
       "    .dataframe thead th {\n",
       "        text-align: right;\n",
       "    }\n",
       "</style>\n",
       "<table border=\"1\" class=\"dataframe\">\n",
       "  <thead>\n",
       "    <tr style=\"text-align: right;\">\n",
       "      <th></th>\n",
       "      <th>Artist</th>\n",
       "      <th>Instument/Vocal</th>\n",
       "      <th>Raga</th>\n",
       "    </tr>\n",
       "  </thead>\n",
       "  <tbody>\n",
       "    <tr>\n",
       "      <th>0</th>\n",
       "      <td>Vidya Dengle</td>\n",
       "      <td>Violin</td>\n",
       "      <td>Ahir Bhairav</td>\n",
       "    </tr>\n",
       "    <tr>\n",
       "      <th>1</th>\n",
       "      <td>Kaushiki Chakraborty</td>\n",
       "      <td>Vocal</td>\n",
       "      <td>Madhuvanti</td>\n",
       "    </tr>\n",
       "    <tr>\n",
       "      <th>2</th>\n",
       "      <td>Anushka Shankar</td>\n",
       "      <td>Sitar</td>\n",
       "      <td>Kafi</td>\n",
       "    </tr>\n",
       "  </tbody>\n",
       "</table>\n",
       "</div>"
      ],
      "text/plain": [
       "                 Artist Instument/Vocal          Raga\n",
       "0          Vidya Dengle          Violin  Ahir Bhairav\n",
       "1  Kaushiki Chakraborty           Vocal    Madhuvanti\n",
       "2       Anushka Shankar           Sitar          Kafi"
      ]
     },
     "execution_count": 16,
     "metadata": {},
     "output_type": "execute_result"
    }
   ],
   "source": [
    "df.head()"
   ]
  },
  {
   "cell_type": "code",
   "execution_count": 17,
   "metadata": {},
   "outputs": [
    {
     "data": {
      "text/html": [
       "<div>\n",
       "<style scoped>\n",
       "    .dataframe tbody tr th:only-of-type {\n",
       "        vertical-align: middle;\n",
       "    }\n",
       "\n",
       "    .dataframe tbody tr th {\n",
       "        vertical-align: top;\n",
       "    }\n",
       "\n",
       "    .dataframe thead th {\n",
       "        text-align: right;\n",
       "    }\n",
       "</style>\n",
       "<table border=\"1\" class=\"dataframe\">\n",
       "  <thead>\n",
       "    <tr style=\"text-align: right;\">\n",
       "      <th></th>\n",
       "      <th>Artist</th>\n",
       "      <th>Instument/Vocal</th>\n",
       "      <th>Raga</th>\n",
       "    </tr>\n",
       "  </thead>\n",
       "  <tbody>\n",
       "    <tr>\n",
       "      <th>1</th>\n",
       "      <td>Kaushiki Chakraborty</td>\n",
       "      <td>Vocal</td>\n",
       "      <td>Madhuvanti</td>\n",
       "    </tr>\n",
       "    <tr>\n",
       "      <th>2</th>\n",
       "      <td>Anushka Shankar</td>\n",
       "      <td>Sitar</td>\n",
       "      <td>Kafi</td>\n",
       "    </tr>\n",
       "  </tbody>\n",
       "</table>\n",
       "</div>"
      ],
      "text/plain": [
       "                 Artist Instument/Vocal        Raga\n",
       "1  Kaushiki Chakraborty           Vocal  Madhuvanti\n",
       "2       Anushka Shankar           Sitar        Kafi"
      ]
     },
     "execution_count": 17,
     "metadata": {},
     "output_type": "execute_result"
    }
   ],
   "source": [
    "df.tail(2)"
   ]
  },
  {
   "cell_type": "code",
   "execution_count": 19,
   "metadata": {},
   "outputs": [
    {
     "data": {
      "text/plain": [
       "Index(['Artist', 'Instument/Vocal', 'Raga'], dtype='object')"
      ]
     },
     "execution_count": 19,
     "metadata": {},
     "output_type": "execute_result"
    }
   ],
   "source": [
    "df.columns"
   ]
  },
  {
   "cell_type": "code",
   "execution_count": 21,
   "metadata": {},
   "outputs": [
    {
     "data": {
      "text/html": [
       "<div>\n",
       "<style scoped>\n",
       "    .dataframe tbody tr th:only-of-type {\n",
       "        vertical-align: middle;\n",
       "    }\n",
       "\n",
       "    .dataframe tbody tr th {\n",
       "        vertical-align: top;\n",
       "    }\n",
       "\n",
       "    .dataframe thead th {\n",
       "        text-align: right;\n",
       "    }\n",
       "</style>\n",
       "<table border=\"1\" class=\"dataframe\">\n",
       "  <thead>\n",
       "    <tr style=\"text-align: right;\">\n",
       "      <th></th>\n",
       "      <th>Artist</th>\n",
       "      <th>Instument/Vocal</th>\n",
       "      <th>Raga</th>\n",
       "    </tr>\n",
       "  </thead>\n",
       "  <tbody>\n",
       "    <tr>\n",
       "      <th>count</th>\n",
       "      <td>3</td>\n",
       "      <td>3</td>\n",
       "      <td>3</td>\n",
       "    </tr>\n",
       "    <tr>\n",
       "      <th>unique</th>\n",
       "      <td>3</td>\n",
       "      <td>3</td>\n",
       "      <td>3</td>\n",
       "    </tr>\n",
       "    <tr>\n",
       "      <th>top</th>\n",
       "      <td>Vidya Dengle</td>\n",
       "      <td>Violin</td>\n",
       "      <td>Ahir Bhairav</td>\n",
       "    </tr>\n",
       "    <tr>\n",
       "      <th>freq</th>\n",
       "      <td>1</td>\n",
       "      <td>1</td>\n",
       "      <td>1</td>\n",
       "    </tr>\n",
       "  </tbody>\n",
       "</table>\n",
       "</div>"
      ],
      "text/plain": [
       "              Artist Instument/Vocal          Raga\n",
       "count              3               3             3\n",
       "unique             3               3             3\n",
       "top     Vidya Dengle          Violin  Ahir Bhairav\n",
       "freq               1               1             1"
      ]
     },
     "execution_count": 21,
     "metadata": {},
     "output_type": "execute_result"
    }
   ],
   "source": [
    "df.describe()"
   ]
  },
  {
   "cell_type": "code",
   "execution_count": 19,
   "metadata": {},
   "outputs": [
    {
     "name": "stdout",
     "output_type": "stream",
     "text": [
      "Welcome to our pet shop/nPlease select a pet\n",
      "****************************************\n",
      "['1.Dog', '2.Cat', '3.Rat', '4.Squirrel', '5.Fish', '6.Bird']\n",
      "['Brando', 'Casper', 'Monu', 'Chinu', 'Neo', 'Birdie']\n",
      "['10 months', '1 year', '12 days', '1 year', 'N/A', 'N/A']\n",
      "['5000', '400', '200', '450', '1000', '500']\n",
      "Please select a pet of your choice:\n",
      "Please select a pet of your choice:\n"
     ]
    }
   ],
   "source": [
    "class petStore:\n",
    "\n",
    "    def __init__(self,animal,name,age,price):\n",
    "       self.animal=animal\n",
    "       self.name=name\n",
    "       self.age=age\n",
    "       self.price= price\n",
    "\n",
    "      \n",
    "    def printInfo(self):\n",
    "        print(\"Welcome to our pet shop/nPlease select a pet\")\n",
    "        print(\"*\"*40)\n",
    "        print(self.animal)\n",
    "        print(self.name)\n",
    "        print(self.age)\n",
    "        print(self.price)\n",
    "    \n",
    "animal = ['1.Dog','2.Cat','3.Rat','4.Squirrel','5.Fish','6.Bird']\n",
    "name = ['Brando','Casper','Monu','Chinu','Neo','Birdie']\n",
    "age = ['10 months','1 year','12 days','1 year','N/A','N/A']\n",
    "price = ['5000','400','200','450','1000','500']\n",
    "\n",
    "your_pet=petStore(animal,name,age,price)\n",
    "your_pet.printInfo()\n",
    "\n",
    "\n",
    "print('Please select a pet of your choice:')\n",
    "choice=input(\"Please Enter your choice: \")\n",
    "\n",
    "print('Please select a pet of your choice:')\n",
    "choice= int(input())\n",
    "\n",
    "\n",
    "if choice==animal[i]:\n",
    "    print(animal[i])\n",
    "    print(name[i])\n",
    "    print(age[i])\n",
    "    print(price[i])\n",
    "\n",
    "\n",
    "\n"
   ]
  },
  {
   "cell_type": "code",
   "execution_count": 8,
   "metadata": {},
   "outputs": [
    {
     "name": "stdout",
     "output_type": "stream",
     "text": [
      "Please select a pet of your choice:\n",
      "1. Dog\n",
      "2. Cat\n",
      "3. Rat\n",
      "4. Squirrel\n",
      "5. Fish\n",
      "6. Bird\n",
      "Welcome to our pet shop\n",
      "Please select a pet\n",
      "****************************************\n",
      "1. F\n",
      "2. i\n",
      "3. s\n",
      "4. h\n"
     ]
    }
   ],
   "source": [
    "class PetStore:\n",
    "\n",
    "    def __init__(self, animal, name, age, price):\n",
    "        self.animal = animal\n",
    "        self.name = name\n",
    "        self.age = age\n",
    "        self.price = price\n",
    "\n",
    "    def printInfo(self):\n",
    "        print(\"Welcome to our pet shop\")\n",
    "        print(\"Please select a pet\")\n",
    "        print(\"*\" * 40)\n",
    "        for i in range(len(self.animal)):\n",
    "            print(f\"{i + 1}. {self.animal[i]}\")\n",
    "    \n",
    "animal_list = ['Dog', 'Cat', 'Rat', 'Squirrel', 'Fish', 'Bird']\n",
    "name_list = ['Brando', 'Casper', 'Monu', 'Chinu', 'Neo', 'Birdie']\n",
    "age_list = ['10 months', '1 year', '12 days', '1 year', 'N/A', 'N/A']\n",
    "price_list = [5000, 400, 200, 450, 1000, 500]\n",
    "\n",
    "print('Please select a pet of your choice:')\n",
    "for i in range(len(animal_list)):\n",
    "    print(f\"{i + 1}. {animal_list[i]}\")\n",
    "\n",
    "choice = int(input()) - 1  # Subtract 1 to match the list index\n",
    "\n",
    "if 0 <= choice < len(animal_list):\n",
    "    your_pet = PetStore(animal_list[choice], name_list[choice], age_list[choice], price_list[choice])\n",
    "    your_pet.printInfo()\n",
    "else:\n",
    "    print(\"Invalid choice. Please select a valid pet.\")\n"
   ]
  },
  {
   "cell_type": "code",
   "execution_count": 20,
   "metadata": {},
   "outputs": [],
   "source": [
    "class PetStore:\n",
    "\n",
    "    def __init__(self, animal, name, age, price):\n",
    "        self.animal = animal\n",
    "        self.name = name\n",
    "        self.age = age\n",
    "        self.price = price\n",
    "\n",
    "    def printInfo(self):\n",
    "        print(\"Welcome to our pet shop\")\n",
    "        print(\"Please select a pet\")\n",
    "        print(\"*\" * 40)\n",
    "        for i in range(len(self.animal)):\n",
    "            print(f\"{self.animal[i]}. {self.name[i]} ({self.age[i]}) - Price: ${self.price[i]}\")\n",
    "\n",
    "animal = ['Dog', 'Cat', 'Rat', 'Squirrel', 'Fish', 'Bird']\n",
    "name = ['Brando', 'Casper', 'Monu', 'Chinu', 'Neo', 'Birdie']\n",
    "age = ['10 months', '1 year', '12 days', '1 year', 'N/A', 'N/A']\n",
    "price = [5000, 400, 200, 450, 1000, 500]\n",
    "\n",
    "your_pet = PetStore(animal, name, age, price)\n",
    "your_pet.printInfo()\n",
    "\n",
    "print('Please select a pet of your choice:')\n",
    "choice = input(\"Please Enter your choice: \")\n",
    "\n",
    "if choice.isdigit():\n",
    "    choice = int(choice)\n",
    "    if 1 <= choice <= len(animal):\n",
    "        choice -= 1  # Adjust for the 0-based list index\n",
    "        print(f\"You have selected {name[choice]} ({age[choice]}), and the price is ${price[choice]}.\")\n",
    "    else:\n",
    "        print(\"Invalid choice. Please select a valid pet number.\")\n",
    "else:\n",
    "    print(\"Invalid input. Please enter a number.\")\n",
    "\n"
   ]
  },
  {
   "cell_type": "code",
   "execution_count": 1,
   "metadata": {},
   "outputs": [
    {
     "name": "stdout",
     "output_type": "stream",
     "text": [
      "3 4 5 5 5 6 6 7 7 7 7 7 8 8 8 8 9 9 9 9 9 9 10 10 10 10 10 10 "
     ]
    }
   ],
   "source": [
    "n=int(input('Enter a natural number greater than 1'))\n",
    "for i in range(2,n+1):\n",
    "        for j in range(2,i+1):\n",
    "                if i% j==0:\n",
    "                    pass\n",
    "                else:\n",
    "                    print(i,end=\" \")  "
   ]
  },
  {
   "cell_type": "code",
   "execution_count": null,
   "metadata": {},
   "outputs": [],
   "source": []
  }
 ],
 "metadata": {
  "kernelspec": {
   "display_name": "Python 3",
   "language": "python",
   "name": "python3"
  },
  "language_info": {
   "codemirror_mode": {
    "name": "ipython",
    "version": 3
   },
   "file_extension": ".py",
   "mimetype": "text/x-python",
   "name": "python",
   "nbconvert_exporter": "python",
   "pygments_lexer": "ipython3",
   "version": "3.11.4"
  },
  "orig_nbformat": 4
 },
 "nbformat": 4,
 "nbformat_minor": 2
}
