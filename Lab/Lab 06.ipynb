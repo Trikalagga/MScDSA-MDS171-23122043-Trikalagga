{
 "cells": [
  {
   "cell_type": "code",
   "execution_count": 2,
   "metadata": {},
   "outputs": [
    {
     "name": "stdout",
     "output_type": "stream",
     "text": [
      "wsttgugybiuhhy6yt\n",
      "Total count of vowels= 3\n",
      "Vowels\t\tCount\n",
      "......................\n",
      "\n",
      "  a\t\t 0\n",
      "  e\t\t 0\n",
      "  i\t\t 1\n",
      "  o\t\t 0\n",
      "  u\t\t 2\n",
      "Percentage of vowels in the given string is: 17.65%\n"
     ]
    }
   ],
   "source": [
    "# Defining a function\n",
    "\n",
    "def vowel_counter():\n",
    "    str_lst = []     # Creating an empty list\n",
    "    str = input(\"Please enter a string: \")    # Input a string\n",
    "    str1 = str.lower()  # Convert the characters in lower case\n",
    "    str1 = str1.strip() # Get rid of unecessary spaces characters at the initial and final position\n",
    "    for i in str1:\n",
    "        str_lst.append(i)   # Adding the characters of the string from the list\n",
    "    a_count = 0\n",
    "    e_count = 0\n",
    "    i_count = 0\n",
    "    o_count = 0\n",
    "    u_count = 0\n",
    "    for item in str_lst:\n",
    "        if item == 'a':\n",
    "            a_count+=1\n",
    "        elif item == 'e':\n",
    "            e_count+=1\n",
    "        elif item == 'i':\n",
    "            i_count+=1\n",
    "        elif item == 'o':\n",
    "            o_count+=1\n",
    "        elif item == 'u':\n",
    "            u_count+=1\n",
    "        else:\n",
    "            pass\n",
    "    V = a_count + e_count + i_count + o_count + u_count\n",
    "    print(str1)\n",
    "    print(\"Total count of vowels=\",V)\n",
    "    print(\"Vowels\\t\\tCount\\n......................\\n\")\n",
    "    print(\"  a\\t\\t\",a_count)\n",
    "    print(\"  e\\t\\t\",e_count)\n",
    "    print(\"  i\\t\\t\",i_count)\n",
    "    print(\"  o\\t\\t\",o_count)\n",
    "    print(\"  u\\t\\t\",u_count)\n",
    "    \n",
    "   \n",
    "    S = len(str1)\n",
    "    T = (V/S)*100\n",
    "    print(f\"Percentage of vowels in the given string is: {T:.2f}%\") # Retaining only two decimal places\n",
    "    \n",
    "\n",
    "\n",
    "# Calling the function for the first time \n",
    "vowel_counter()\n",
    "\n",
    "\n",
    "\n",
    "\n"
   ]
  },
  {
   "cell_type": "code",
   "execution_count": 3,
   "metadata": {},
   "outputs": [
    {
     "name": "stdout",
     "output_type": "stream",
     "text": [
      "tfg8g8huj\n",
      "Total count of vowels= 1\n",
      "Vowels\t\tCount\n",
      "......................\n",
      "\n",
      "  a\t\t 0\n",
      "  e\t\t 0\n",
      "  i\t\t 0\n",
      "  o\t\t 0\n",
      "  u\t\t 1\n",
      "Percentage of vowels in the given string is: 11.11%\n"
     ]
    }
   ],
   "source": [
    "# Calling the function for the second time\n",
    "vowel_counter()"
   ]
  },
  {
   "cell_type": "code",
   "execution_count": 4,
   "metadata": {},
   "outputs": [
    {
     "name": "stdout",
     "output_type": "stream",
     "text": [
      "trinity serves the best chocolate brownie !!!\n",
      "Total count of vowels= 13\n",
      "Vowels\t\tCount\n",
      "......................\n",
      "\n",
      "  a\t\t 1\n",
      "  e\t\t 6\n",
      "  i\t\t 3\n",
      "  o\t\t 3\n",
      "  u\t\t 0\n",
      "Percentage of vowels in the given string is: 28.89%\n"
     ]
    }
   ],
   "source": [
    "# Calling the function for the third time\n",
    "vowel_counter()"
   ]
  },
  {
   "cell_type": "code",
   "execution_count": null,
   "metadata": {},
   "outputs": [],
   "source": []
  }
 ],
 "metadata": {
  "kernelspec": {
   "display_name": "Python 3",
   "language": "python",
   "name": "python3"
  },
  "language_info": {
   "codemirror_mode": {
    "name": "ipython",
    "version": 3
   },
   "file_extension": ".py",
   "mimetype": "text/x-python",
   "name": "python",
   "nbconvert_exporter": "python",
   "pygments_lexer": "ipython3",
   "version": "3.11.4"
  },
  "orig_nbformat": 4
 },
 "nbformat": 4,
 "nbformat_minor": 2
}
