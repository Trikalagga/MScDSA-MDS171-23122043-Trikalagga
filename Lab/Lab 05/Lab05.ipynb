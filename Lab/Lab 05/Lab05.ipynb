{
 "cells": [
  {
   "cell_type": "markdown",
   "metadata": {},
   "source": [
    "### Mix and Match Calculator"
   ]
  },
  {
   "cell_type": "code",
   "execution_count": 61,
   "metadata": {},
   "outputs": [],
   "source": [
    "import random\n"
   ]
  },
  {
   "cell_type": "code",
   "execution_count": 62,
   "metadata": {},
   "outputs": [],
   "source": [
    "Item = [\"stationary\",\"sports goods\",\"confectionary\",\"groceries\",\"food items\",\"jewellery\",\"clothing item\",\"accessory\",\"beverage\",\"dessert\"]\n",
    "Quantity = [\"35\",\"15\",\"50\",\"20\",\"50\",\"22\",\"15\",\"10\",\"40\",\"36\"]\n",
    "Price = [\"100\",\"1000\",\"300\",\"250\",\"400\",\"2000\",\"1700\",\"900\",\"650\",\"200\"]"
   ]
  },
  {
   "cell_type": "code",
   "execution_count": 66,
   "metadata": {},
   "outputs": [],
   "source": [
    "file = open(\"23222043.csv\",\"a+\")\n",
    "file.write(\"Item,Quantity,Price\\n\")\n",
    "file.close()"
   ]
  },
  {
   "cell_type": "code",
   "execution_count": 67,
   "metadata": {},
   "outputs": [],
   "source": [
    "def addRandomOrder(Item,Quantity,Price, file):\n",
    "    item = Item[random.randint(0,len(Item)-1)]\n",
    "    quantity  = Quantity[random.randint(0,len(Quantity)-1)]\n",
    "    price  = Price[random.randint(0,len(Price)-1)]\n",
    "\n",
    "\n",
    "\n",
    "\n",
    "\n",
    "\n",
    "\n",
    "\n",
    "\n",
    "\n",
    "\n",
    "\n",
    "\n",
    "\n",
    "\n",
    "\n",
    "\n",
    "\n",
    "\n",
    "\n",
    "\n",
    "\n",
    "\n",
    "\n",
    "\n",
    "\n",
    "\n",
    "\n",
    "\n",
    "\n",
    "\n",
    "\n",
    "\n",
    "\n",
    "\n",
    "\n",
    "\n",
    "\n",
    "\n",
    "\n",
    "\n",
    "\n",
    "    ++++++++++++\n",
    "    file.write(item+\",\"+quantity+\",\"+price+\"\\n\")"
   ]
  },
  {
   "cell_type": "code",
   "execution_count": 68,
   "metadata": {},
   "outputs": [],
   "source": [
    "for iteration in range(0,101,1):\n",
    "    file = open(\"23122043.csv\",\"a+\")\n",
    "    addRandomOrder(Item,Quantity,Price, file)\n",
    "    file.close()"
   ]
  },
  {
   "cell_type": "code",
   "execution_count": 72,
   "metadata": {},
   "outputs": [],
   "source": [
    "def totalprice():\n",
    "    for i in range(0,10,1):\n",
    "        Totalprice= int(Quantity[i])*int(Price[i])\n",
    "        file= open(\"23122043.csv\",\"a+\")\n",
    "        newfile= file.readlines()\n",
    "        print(newfile)"
   ]
  },
  {
   "cell_type": "code",
   "execution_count": 71,
   "metadata": {},
   "outputs": [],
   "source": [
    "totalprice()"
   ]
  },
  {
   "cell_type": "code",
   "execution_count": 69,
   "metadata": {},
   "outputs": [
    {
     "name": "stdout",
     "output_type": "stream",
     "text": [
      "[]\n"
     ]
    }
   ],
   "source": [
    "with open(\"23122043.csv\",\"r\") as file:\n",
    "    file.readlines()\n",
    "    print(file.readlines())\n",
    "\n"
   ]
  },
  {
   "cell_type": "code",
   "execution_count": null,
   "metadata": {},
   "outputs": [],
   "source": [
    "\n"
   ]
  }
 ],
 "metadata": {
  "kernelspec": {
   "display_name": "Python 3",
   "language": "python",
   "name": "python3"
  },
  "language_info": {
   "codemirror_mode": {
    "name": "ipython",
    "version": 3
   },
   "file_extension": ".py",
   "mimetype": "text/x-python",
   "name": "python",
   "nbconvert_exporter": "python",
   "pygments_lexer": "ipython3",
   "version": "3.11.4"
  },
  "orig_nbformat": 4
 },
 "nbformat": 4,
 "nbformat_minor": 2
}
